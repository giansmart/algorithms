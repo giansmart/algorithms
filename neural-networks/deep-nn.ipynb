{
 "cells": [
  {
   "cell_type": "markdown",
   "metadata": {},
   "source": [
    "# My Deep Learning Framework"
   ]
  },
  {
   "cell_type": "code",
   "execution_count": 1,
   "metadata": {},
   "outputs": [],
   "source": [
    "import random\n",
    "import matplotlib.pyplot as plt\n",
    "import numpy as np\n",
    "import pandas as pd"
   ]
  },
  {
   "cell_type": "markdown",
   "metadata": {},
   "source": [
    "Labels\n",
    "- 0 T-shirt/top\n",
    "- 1 Trouser\n",
    "- 2 Pullover\n",
    "- 3 Dress\n",
    "- 4 Coat\n",
    "- 5 Sandal\n",
    "- 6 Shirt\n",
    "- 7 Sneaker\n",
    "- 8 Bag\n",
    "- 9 Ankle boot"
   ]
  },
  {
   "cell_type": "code",
   "execution_count": 2,
   "metadata": {},
   "outputs": [],
   "source": [
    "articles = {\n",
    "            0: \"T-shirt/top\", 1: \"Trouser\", 2: \"Pullover\", 3: \"Dress\", 4: \"Coat\", \n",
    "            5: \"Sandal\", 6: \"Shirt\", 7: \"Sneaker\", 8: \"Bag\", 9: \"Ankle boot\"}\n",
    "\n",
    "def get_article(id):\n",
    "    return articles.get(id)"
   ]
  },
  {
   "cell_type": "markdown",
   "metadata": {},
   "source": [
    "### Matrix Utilities"
   ]
  },
  {
   "cell_type": "code",
   "execution_count": 5,
   "metadata": {},
   "outputs": [
    {
     "data": {
      "text/plain": [
       "[[38, 44, 50, 56], [83, 98, 113, 128]]"
      ]
     },
     "execution_count": 5,
     "metadata": {},
     "output_type": "execute_result"
    }
   ],
   "source": [
    "def random_matrix(n_rows, n_cols, n_decimals=4):\n",
    "    matrix = []\n",
    "    for _ in range(n_rows):\n",
    "        cols = []\n",
    "        for _ in range(n_cols):\n",
    "            number = round(random.random(),n_decimals)\n",
    "            cols.append(number)\n",
    "        matrix.append(cols)\n",
    "    return matrix\n",
    "    \n",
    "def create_matrix(n_rows, n_cols, value=0):\n",
    "    return [ [ value for _ in range(n_cols)] for _ in range(n_rows) ]\n",
    "\n",
    "def create_vector(n_size, value=0):\n",
    "    return [value for _ in range(n_size)]\n",
    "\n",
    "\n",
    "def reshape_vector(vector, n_rows):\n",
    "    matrix = []\n",
    "    n_cols = int(len(vector) / n_rows)\n",
    "    begin = 0\n",
    "    for _ in range(n_rows):\n",
    "        row = vector[begin : begin + n_cols]\n",
    "        matrix.append(row)\n",
    "        begin +=  n_cols\n",
    "    return matrix\n",
    "\n",
    "def multiply_matrix(matrix_A, matrix_B):\n",
    "    A_rows, A_cols = len(matrix_A), len(matrix_A[0])\n",
    "    B_rows, B_cols = len(matrix_B), len(matrix_B[0])\n",
    "\n",
    "    #if A_cols != B_rows: \n",
    "    #    raise ValueError(f\"Incompatible dimentions: A col: {A_cols} != {B_rows}\" )\n",
    "    \n",
    "    result_matrix = create_matrix(A_rows, B_cols)\n",
    "    \n",
    "    for i in range(A_rows):\n",
    "        for j in range(B_cols):\n",
    "            for k in range(B_rows):\n",
    "                result_matrix[i][j] += matrix_A[i][k] * matrix_B[k][j]\n",
    "\n",
    "    return result_matrix\n",
    "\n",
    "#print(random_matrix(2,2))\n",
    "#rint(create_vector(5))\n",
    "#print(create_matrix(5, 2))\n",
    "#print(reshape_vector([1,2,3,4,5,6], 3))\n",
    "A = [[1, 2, 3], \n",
    "    [4, 5, 6]]\n",
    "B = [[1, 2, 3, 4], \n",
    "    [5, 6, 7, 8], \n",
    "    [9, 10, 11, 12]]\n",
    "\n",
    "multiply_matrix(A, B)"
   ]
  },
  {
   "cell_type": "markdown",
   "metadata": {},
   "source": [
    "## Loading Fashion MNIST data"
   ]
  },
  {
   "cell_type": "markdown",
   "metadata": {},
   "source": [
    "### Loading without libraries"
   ]
  },
  {
   "cell_type": "code",
   "execution_count": 8,
   "metadata": {},
   "outputs": [
    {
     "data": {
      "image/png": "[encoded data removed]",
      "text/plain": [
       "<Figure size 640x480 with 1 Axes>"
      ]
     },
     "metadata": {},
     "output_type": "display_data"
    },
    {
     "data": {
      "text/plain": [
       "(9, 'Ankle boot')"
      ]
     },
     "execution_count": 8,
     "metadata": {},
     "output_type": "execute_result"
    }
   ],
   "source": [
    "base_data_path = 'fashion-mnist-data'\n",
    "\n",
    "def load_data():\n",
    "    y_data = []\n",
    "    x_data = []\n",
    "\n",
    "    with open(f'./{base_data_path}/fashion-mnist_train.csv', \"r\") as file:\n",
    "        next(file)\n",
    "        for index, line in enumerate(file.readlines()):\n",
    "            y_data.append(int(line.split(\",\")[0]))\n",
    "            x_data.append([ int(pixel) for pixel in line.split(\",\")[1:] ])\n",
    "            if index >= 16: break\n",
    "    return x_data, y_data\n",
    "\n",
    "X_raw,Y_raw = load_data()\n",
    "\n",
    "x_img = reshape_vector(X_raw[1],28)\n",
    "plt.imshow(x_img)\n",
    "plt.show()\n",
    "Y_raw[1], get_article(Y_raw[1])"
   ]
  },
  {
   "cell_type": "markdown",
   "metadata": {},
   "source": [
    "### Working with pandas and numpy"
   ]
  },
  {
   "cell_type": "code",
   "execution_count": 8,
   "metadata": {},
   "outputs": [
    {
     "data": {
      "text/html": [
       "<div>\n",
       "<style scoped>\n",
       "    .dataframe tbody tr th:only-of-type {\n",
       "        vertical-align: middle;\n",
       "    }\n",
       "\n",
       "    .dataframe tbody tr th {\n",
       "        vertical-align: top;\n",
       "    }\n",
       "\n",
       "    .dataframe thead th {\n",
       "        text-align: right;\n",
       "    }\n",
       "</style>\n",
       "<table border=\"1\" class=\"dataframe\">\n",
       "  <thead>\n",
       "    <tr style=\"text-align: right;\">\n",
       "      <th></th>\n",
       "      <th>label</th>\n",
       "      <th>pixel1</th>\n",
       "      <th>pixel2</th>\n",
       "      <th>pixel3</th>\n",
       "      <th>pixel4</th>\n",
       "      <th>pixel5</th>\n",
       "      <th>pixel6</th>\n",
       "      <th>pixel7</th>\n",
       "      <th>pixel8</th>\n",
       "      <th>pixel9</th>\n",
       "      <th>...</th>\n",
       "      <th>pixel775</th>\n",
       "      <th>pixel776</th>\n",
       "      <th>pixel777</th>\n",
       "      <th>pixel778</th>\n",
       "      <th>pixel779</th>\n",
       "      <th>pixel780</th>\n",
       "      <th>pixel781</th>\n",
       "      <th>pixel782</th>\n",
       "      <th>pixel783</th>\n",
       "      <th>pixel784</th>\n",
       "    </tr>\n",
       "  </thead>\n",
       "  <tbody>\n",
       "    <tr>\n",
       "      <th>0</th>\n",
       "      <td>2</td>\n",
       "      <td>0</td>\n",
       "      <td>0</td>\n",
       "      <td>0</td>\n",
       "      <td>0</td>\n",
       "      <td>0</td>\n",
       "      <td>0</td>\n",
       "      <td>0</td>\n",
       "      <td>0</td>\n",
       "      <td>0</td>\n",
       "      <td>...</td>\n",
       "      <td>0</td>\n",
       "      <td>0</td>\n",
       "      <td>0</td>\n",
       "      <td>0</td>\n",
       "      <td>0</td>\n",
       "      <td>0</td>\n",
       "      <td>0</td>\n",
       "      <td>0</td>\n",
       "      <td>0</td>\n",
       "      <td>0</td>\n",
       "    </tr>\n",
       "    <tr>\n",
       "      <th>1</th>\n",
       "      <td>9</td>\n",
       "      <td>0</td>\n",
       "      <td>0</td>\n",
       "      <td>0</td>\n",
       "      <td>0</td>\n",
       "      <td>0</td>\n",
       "      <td>0</td>\n",
       "      <td>0</td>\n",
       "      <td>0</td>\n",
       "      <td>0</td>\n",
       "      <td>...</td>\n",
       "      <td>0</td>\n",
       "      <td>0</td>\n",
       "      <td>0</td>\n",
       "      <td>0</td>\n",
       "      <td>0</td>\n",
       "      <td>0</td>\n",
       "      <td>0</td>\n",
       "      <td>0</td>\n",
       "      <td>0</td>\n",
       "      <td>0</td>\n",
       "    </tr>\n",
       "    <tr>\n",
       "      <th>2</th>\n",
       "      <td>6</td>\n",
       "      <td>0</td>\n",
       "      <td>0</td>\n",
       "      <td>0</td>\n",
       "      <td>0</td>\n",
       "      <td>0</td>\n",
       "      <td>0</td>\n",
       "      <td>0</td>\n",
       "      <td>5</td>\n",
       "      <td>0</td>\n",
       "      <td>...</td>\n",
       "      <td>0</td>\n",
       "      <td>0</td>\n",
       "      <td>0</td>\n",
       "      <td>30</td>\n",
       "      <td>43</td>\n",
       "      <td>0</td>\n",
       "      <td>0</td>\n",
       "      <td>0</td>\n",
       "      <td>0</td>\n",
       "      <td>0</td>\n",
       "    </tr>\n",
       "    <tr>\n",
       "      <th>3</th>\n",
       "      <td>0</td>\n",
       "      <td>0</td>\n",
       "      <td>0</td>\n",
       "      <td>0</td>\n",
       "      <td>1</td>\n",
       "      <td>2</td>\n",
       "      <td>0</td>\n",
       "      <td>0</td>\n",
       "      <td>0</td>\n",
       "      <td>0</td>\n",
       "      <td>...</td>\n",
       "      <td>3</td>\n",
       "      <td>0</td>\n",
       "      <td>0</td>\n",
       "      <td>0</td>\n",
       "      <td>0</td>\n",
       "      <td>1</td>\n",
       "      <td>0</td>\n",
       "      <td>0</td>\n",
       "      <td>0</td>\n",
       "      <td>0</td>\n",
       "    </tr>\n",
       "    <tr>\n",
       "      <th>4</th>\n",
       "      <td>3</td>\n",
       "      <td>0</td>\n",
       "      <td>0</td>\n",
       "      <td>0</td>\n",
       "      <td>0</td>\n",
       "      <td>0</td>\n",
       "      <td>0</td>\n",
       "      <td>0</td>\n",
       "      <td>0</td>\n",
       "      <td>0</td>\n",
       "      <td>...</td>\n",
       "      <td>0</td>\n",
       "      <td>0</td>\n",
       "      <td>0</td>\n",
       "      <td>0</td>\n",
       "      <td>0</td>\n",
       "      <td>0</td>\n",
       "      <td>0</td>\n",
       "      <td>0</td>\n",
       "      <td>0</td>\n",
       "      <td>0</td>\n",
       "    </tr>\n",
       "    <tr>\n",
       "      <th>...</th>\n",
       "      <td>...</td>\n",
       "      <td>...</td>\n",
       "      <td>...</td>\n",
       "      <td>...</td>\n",
       "      <td>...</td>\n",
       "      <td>...</td>\n",
       "      <td>...</td>\n",
       "      <td>...</td>\n",
       "      <td>...</td>\n",
       "      <td>...</td>\n",
       "      <td>...</td>\n",
       "      <td>...</td>\n",
       "      <td>...</td>\n",
       "      <td>...</td>\n",
       "      <td>...</td>\n",
       "      <td>...</td>\n",
       "      <td>...</td>\n",
       "      <td>...</td>\n",
       "      <td>...</td>\n",
       "      <td>...</td>\n",
       "      <td>...</td>\n",
       "    </tr>\n",
       "    <tr>\n",
       "      <th>59995</th>\n",
       "      <td>9</td>\n",
       "      <td>0</td>\n",
       "      <td>0</td>\n",
       "      <td>0</td>\n",
       "      <td>0</td>\n",
       "      <td>0</td>\n",
       "      <td>0</td>\n",
       "      <td>0</td>\n",
       "      <td>0</td>\n",
       "      <td>0</td>\n",
       "      <td>...</td>\n",
       "      <td>0</td>\n",
       "      <td>0</td>\n",
       "      <td>0</td>\n",
       "      <td>0</td>\n",
       "      <td>0</td>\n",
       "      <td>0</td>\n",
       "      <td>0</td>\n",
       "      <td>0</td>\n",
       "      <td>0</td>\n",
       "      <td>0</td>\n",
       "    </tr>\n",
       "    <tr>\n",
       "      <th>59996</th>\n",
       "      <td>1</td>\n",
       "      <td>0</td>\n",
       "      <td>0</td>\n",
       "      <td>0</td>\n",
       "      <td>0</td>\n",
       "      <td>0</td>\n",
       "      <td>0</td>\n",
       "      <td>0</td>\n",
       "      <td>0</td>\n",
       "      <td>0</td>\n",
       "      <td>...</td>\n",
       "      <td>73</td>\n",
       "      <td>0</td>\n",
       "      <td>0</td>\n",
       "      <td>0</td>\n",
       "      <td>0</td>\n",
       "      <td>0</td>\n",
       "      <td>0</td>\n",
       "      <td>0</td>\n",
       "      <td>0</td>\n",
       "      <td>0</td>\n",
       "    </tr>\n",
       "    <tr>\n",
       "      <th>59997</th>\n",
       "      <td>8</td>\n",
       "      <td>0</td>\n",
       "      <td>0</td>\n",
       "      <td>0</td>\n",
       "      <td>0</td>\n",
       "      <td>0</td>\n",
       "      <td>0</td>\n",
       "      <td>0</td>\n",
       "      <td>0</td>\n",
       "      <td>0</td>\n",
       "      <td>...</td>\n",
       "      <td>160</td>\n",
       "      <td>162</td>\n",
       "      <td>163</td>\n",
       "      <td>135</td>\n",
       "      <td>94</td>\n",
       "      <td>0</td>\n",
       "      <td>0</td>\n",
       "      <td>0</td>\n",
       "      <td>0</td>\n",
       "      <td>0</td>\n",
       "    </tr>\n",
       "    <tr>\n",
       "      <th>59998</th>\n",
       "      <td>8</td>\n",
       "      <td>0</td>\n",
       "      <td>0</td>\n",
       "      <td>0</td>\n",
       "      <td>0</td>\n",
       "      <td>0</td>\n",
       "      <td>0</td>\n",
       "      <td>0</td>\n",
       "      <td>0</td>\n",
       "      <td>0</td>\n",
       "      <td>...</td>\n",
       "      <td>0</td>\n",
       "      <td>0</td>\n",
       "      <td>0</td>\n",
       "      <td>0</td>\n",
       "      <td>0</td>\n",
       "      <td>0</td>\n",
       "      <td>0</td>\n",
       "      <td>0</td>\n",
       "      <td>0</td>\n",
       "      <td>0</td>\n",
       "    </tr>\n",
       "    <tr>\n",
       "      <th>59999</th>\n",
       "      <td>7</td>\n",
       "      <td>0</td>\n",
       "      <td>0</td>\n",
       "      <td>0</td>\n",
       "      <td>0</td>\n",
       "      <td>0</td>\n",
       "      <td>0</td>\n",
       "      <td>0</td>\n",
       "      <td>0</td>\n",
       "      <td>0</td>\n",
       "      <td>...</td>\n",
       "      <td>0</td>\n",
       "      <td>0</td>\n",
       "      <td>0</td>\n",
       "      <td>0</td>\n",
       "      <td>0</td>\n",
       "      <td>0</td>\n",
       "      <td>0</td>\n",
       "      <td>0</td>\n",
       "      <td>0</td>\n",
       "      <td>0</td>\n",
       "    </tr>\n",
       "  </tbody>\n",
       "</table>\n",
       "<p>60000 rows × 785 columns</p>\n",
       "</div>"
      ],
      "text/plain": [
       "       label  pixel1  pixel2  pixel3  pixel4  pixel5  pixel6  pixel7  pixel8  \\\n",
       "0          2       0       0       0       0       0       0       0       0   \n",
       "1          9       0       0       0       0       0       0       0       0   \n",
       "2          6       0       0       0       0       0       0       0       5   \n",
       "3          0       0       0       0       1       2       0       0       0   \n",
       "4          3       0       0       0       0       0       0       0       0   \n",
       "...      ...     ...     ...     ...     ...     ...     ...     ...     ...   \n",
       "59995      9       0       0       0       0       0       0       0       0   \n",
       "59996      1       0       0       0       0       0       0       0       0   \n",
       "59997      8       0       0       0       0       0       0       0       0   \n",
       "59998      8       0       0       0       0       0       0       0       0   \n",
       "59999      7       0       0       0       0       0       0       0       0   \n",
       "\n",
       "       pixel9  ...  pixel775  pixel776  pixel777  pixel778  pixel779  \\\n",
       "0           0  ...         0         0         0         0         0   \n",
       "1           0  ...         0         0         0         0         0   \n",
       "2           0  ...         0         0         0        30        43   \n",
       "3           0  ...         3         0         0         0         0   \n",
       "4           0  ...         0         0         0         0         0   \n",
       "...       ...  ...       ...       ...       ...       ...       ...   \n",
       "59995       0  ...         0         0         0         0         0   \n",
       "59996       0  ...        73         0         0         0         0   \n",
       "59997       0  ...       160       162       163       135        94   \n",
       "59998       0  ...         0         0         0         0         0   \n",
       "59999       0  ...         0         0         0         0         0   \n",
       "\n",
       "       pixel780  pixel781  pixel782  pixel783  pixel784  \n",
       "0             0         0         0         0         0  \n",
       "1             0         0         0         0         0  \n",
       "2             0         0         0         0         0  \n",
       "3             1         0         0         0         0  \n",
       "4             0         0         0         0         0  \n",
       "...         ...       ...       ...       ...       ...  \n",
       "59995         0         0         0         0         0  \n",
       "59996         0         0         0         0         0  \n",
       "59997         0         0         0         0         0  \n",
       "59998         0         0         0         0         0  \n",
       "59999         0         0         0         0         0  \n",
       "\n",
       "[60000 rows x 785 columns]"
      ]
     },
     "execution_count": 8,
     "metadata": {},
     "output_type": "execute_result"
    }
   ],
   "source": [
    "df = pd.read_csv(f'./{base_data_path}/fashion-mnist_train.csv')\n",
    "df"
   ]
  },
  {
   "cell_type": "code",
   "execution_count": 15,
   "metadata": {},
   "outputs": [],
   "source": [
    "data = np.array(df)\n",
    "m, n = data.shape # 60000, 785\n",
    "np.random.shuffle(data)\n",
    "\n",
    "data_test = data[0:1000].T # 785, 1000\n",
    "X_test = data_test[1:n] \n",
    "Y_test = data_test[0]\n",
    "\n",
    "data_train = data[1000:].T\n",
    "X_train = data_train[1:n]\n",
    "Y_train = data_train[0]\n",
    "\n",
    "# Normalization\n",
    "X_test = X_test / 255\n",
    "X_train = X_train / 255\n"
   ]
  },
  {
   "cell_type": "code",
   "execution_count": 16,
   "metadata": {},
   "outputs": [
    {
     "data": {
      "text/plain": [
       "(785, 59000)"
      ]
     },
     "execution_count": 16,
     "metadata": {},
     "output_type": "execute_result"
    }
   ],
   "source": [
    "data[0:1000].shape\n",
    "data_train.shape"
   ]
  },
  {
   "cell_type": "code",
   "execution_count": 13,
   "metadata": {},
   "outputs": [
    {
     "data": {
      "text/plain": [
       "((784, 59000), (59000,), 60000)"
      ]
     },
     "execution_count": 13,
     "metadata": {},
     "output_type": "execute_result"
    }
   ],
   "source": [
    "X_train.shape, Y_train.shape, m"
   ]
  },
  {
   "cell_type": "markdown",
   "metadata": {},
   "source": [
    "### Building the Neural Network"
   ]
  },
  {
   "cell_type": "code",
   "execution_count": 24,
   "metadata": {},
   "outputs": [
    {
     "data": {
      "text/plain": [
       "array([0.65900114, 0.24243297, 0.09856589])"
      ]
     },
     "execution_count": 24,
     "metadata": {},
     "output_type": "execute_result"
    }
   ],
   "source": [
    "def init_params(batch_size=16):\n",
    "    n_neurons_l2 = 25\n",
    "    W1 = np.random.randn(batch_size, 784) - 0.5\n",
    "    b1 = np.zeros(shape=(batch_size, 1))\n",
    "    W2 = np.random.randn(n_neurons_l2, batch_size) - 0.5\n",
    "    b2 = np.zeros(shape=(n_neurons_l2, 1))\n",
    "    W3 = np.random.randn(10, n_neurons_l2) - 0.5\n",
    "    b3 = np.zeros(shape=(10,1))\n",
    "    \n",
    "    return W1, b1, W2, b2, W3, b3\n",
    "\n",
    "def relu(x):\n",
    "    return np.maximum(x, 0)\n",
    "\n",
    "def softmax(x):\n",
    "    z = x - np.max(x, axis=0)\n",
    "    probs = np.exp(z) / np.sum(np.exp(z), axis=0)\n",
    "    return probs\n",
    "\n",
    "def cross_entropy(y_hat, y_one_hot):\n",
    "    # y_one_hot es un vector con las probabilidades reales (etiquetas verdaderas)\n",
    "    # y_hat es un vector con las probabilidades predichas por el modelo\n",
    "    epsilon = 1e-15  # Valor pequeño para evitar divisiones por cero\n",
    "    y_hat = np.maximum(epsilon, y_hat)  # Asegurarse de que no haya valores cercanos a cero\n",
    "    return - np.sum(y_one_hot * np.log(y_hat))\n",
    "\n",
    "def relu_prime(z):\n",
    "    #z[ z <= 0] = 0\n",
    "    return z > 0\n",
    "\n",
    "def one_hot(y, k=10):\n",
    "    #one_hot_y = np.zeros(shape=(y.size, k))\n",
    "    #classes = np.arange(y.size)\n",
    "    #one_hot_y[classes, y] = 1\n",
    "    one_hot_y = np.zeros((y.size, 10)) # 10 classes\n",
    "    one_hot_y[np.arange(y.size), y] = 1\n",
    "    # return the same format as 784 x batch_size\n",
    "    return one_hot_y.T\n",
    "\n",
    "def forward_propagation(X, W1, b1, W2, b2, W3, b3):\n",
    "    Z1 = np.dot(W1, X) + b1\n",
    "    A1 = relu(Z1)\n",
    "    Z2 = np.dot(W2, A1) + b2\n",
    "    A2 = relu(Z2)\n",
    "    Z3 = np.dot(W3, A2) + b3\n",
    "    A3 = softmax(Z3)\n",
    "\n",
    "    return Z1, A1, Z2, A2, Z3, A3\n",
    "\n",
    "def backward_propagation(X, Y_one_hot, Z1, A1, Z2, A2, Z3, A3, W1, W2, W3):\n",
    "    m = X.shape[1] # 59000\n",
    "\n",
    "    dZ3 = A3 - Y_one_hot\n",
    "    dW3 = 1/m * (dZ3 @ A2.T)\n",
    "    db3 = 1/m * np.sum(dZ3, 1)\n",
    "\n",
    "    dA2 = W3.T @ dZ3\n",
    "    dZ2 = dA2 * relu_prime(Z2)\n",
    "    dW2 = 1/m * (dZ2 @ A1.T)\n",
    "    db2 =  1/m * np.sum(dZ2, 1)\n",
    "\n",
    "    dA1 = W2.T @ dZ2\n",
    "    dZ1 = dA1 * relu_prime(Z1)\n",
    "    dW1 = 1/m * (dZ1 @ X.T)\n",
    "    db1 = 1/m * np.sum(dZ1, 1)\n",
    "\n",
    "    return dW1, db1, dW2, db2, dW3, db3\n",
    "\n",
    "def update_params(lr, W1, b1, W2, b2, W3, b3, dW1, db1, dW2, db2, dW3, db3):\n",
    "    W1 = W1 - lr * dW1\n",
    "    b1 = b1 - lr * db1.reshape(16,1)\n",
    "    W2 = W2 - lr * dW2\n",
    "    b2 = b2 - lr * db2.reshape(25,1)\n",
    "    W3 = W3 - lr * dW3\n",
    "    b3 = b3 - lr * db3.reshape(10, 1)\n",
    "    return W1, b1, W2, b2, W3, b3\n",
    "\n",
    "def get_batches(total_samples, batch_size=16):\n",
    "    batches = []\n",
    "    for split in range(0, total_samples, batch_size):\n",
    "        if split + batch_size > total_samples: break\n",
    "        start_index = split\n",
    "        end_index = split + batch_size #if (split + batch_size <= total_samples)  else  total_samples\n",
    "        batches.append((start_index, end_index))\n",
    "    return batches\n",
    "\n",
    "def get_accuracy(y_hat, y):\n",
    "    predictions = np.argmax(y_hat, 0)\n",
    "    return np.sum(predictions == y) / y.size\n",
    "\n",
    "#get_batches(100)\n",
    "\n",
    "#A = [[-1, 0.5, -0.23], [0.67, -2.8, 2.12]]\n",
    "#print(relu(A))\n",
    "#print(softmax(A))\n",
    "\n",
    "input_vector = np.array([2, 1.0, 0.1])\n",
    "softmax(input_vector)"
   ]
  },
  {
   "cell_type": "markdown",
   "metadata": {},
   "source": [
    "Creating a Neural Network with:\n",
    "- 3 layers: 1 input, 1 hidden, 1 output\n",
    "- hidden layer"
   ]
  },
  {
   "cell_type": "code",
   "execution_count": 18,
   "metadata": {},
   "outputs": [
    {
     "data": {
      "text/plain": [
       "(784, 59000)"
      ]
     },
     "execution_count": 18,
     "metadata": {},
     "output_type": "execute_result"
    }
   ],
   "source": [
    "# X_train[:, 32:64].shape\n",
    "X_train.shape"
   ]
  },
  {
   "cell_type": "code",
   "execution_count": 25,
   "metadata": {},
   "outputs": [
    {
     "name": "stdout",
     "output_type": "stream",
     "text": [
      "Epoc: 1, loss: 135852.5314, acc: 0.09996610169491525\n",
      "Epoc: 100, loss: 135852.4973, acc: 0.10020338983050847\n",
      "Epoc: 200, loss: 135852.4923, acc: 0.10020338983050847\n",
      "Epoc: 300, loss: 135852.4911, acc: 0.10020338983050847\n"
     ]
    }
   ],
   "source": [
    "batch_size = 64\n",
    "epochs = 300\n",
    "learning_rate = 0.1\n",
    "\n",
    "def train():\n",
    "    X = X_train\n",
    "    Y = Y_train\n",
    "\n",
    "    W1, b1, W2, b2, W3, b3 = init_params()\n",
    "\n",
    "    for epoch in range(epochs):\n",
    "        \n",
    "        Z1, A1, Z2, A2, Z3, A3 = forward_propagation(X, W1, b1, W2, b2, W3, b3)\n",
    "        y_one_hot = one_hot(Y)\n",
    "        loss = cross_entropy(A3, y_one_hot) # y_hat - y\n",
    "\n",
    "        dW1, db1, dW2, db2, dW3, db3 = backward_propagation(X, y_one_hot, Z1, A1, Z2, A2, Z3, A3, W1, W2, W3)\n",
    "        W1, b1, W2, b2, W3, b3 = update_params(learning_rate, W1, b1, W2, b2, W3, b3, dW1, db1, dW2, db2, dW3, db3)\n",
    "            \n",
    "        if epoch == 0 or (epoch + 1) % 100  == 0:\n",
    "            acc = get_accuracy(A3, Y)\n",
    "            print(f\"Epoc: {epoch + 1}, loss: {round(loss,4)}, acc: {acc}\")\n",
    "            \n",
    "    return W1, b1, W2, b2, W3, b3\n",
    "    \n",
    "W1, b1, W2, b2, W3, b3 = train()"
   ]
  },
  {
   "cell_type": "code",
   "execution_count": 69,
   "metadata": {},
   "outputs": [],
   "source": [
    "#one_hot_y = np.zeros((Y_train.size, 10)) \n",
    "#one_hot_y[np.arange(Y_train.size), Y_train] = 1\n",
    "#one_hot_y[1], Y_train[1]\n",
    "#one_hot_y.T.shape, A3.shape, b1.shape"
   ]
  },
  {
   "cell_type": "markdown",
   "metadata": {},
   "source": [
    "batch_size = 32\n",
    "epochs = 5\n",
    "learning_rate = 0.01\n",
    "\n",
    "def train():\n",
    "    params = initialize_params(batch_size)\n",
    "\n",
    "    total_samples = len(Y_train)\n",
    "    batches = get_batches(total_samples, batch_size)\n",
    "    \n",
    "    for epoch in range(epochs):\n",
    "        i = 0\n",
    "        for start_index, end_index in batches:\n",
    "            X = X_train[:, start_index:end_index]\n",
    "            Y = Y_train[start_index:end_index]\n",
    "\n",
    "            params = forward_propagation(X, params)\n",
    "\n",
    "            loss, params = backward_propagation(X, Y, params)\n",
    "\n",
    "            params = update_params(learning_rate, params)\n",
    "            \n",
    "            if i % 100 == 0:\n",
    "                acc = get_accuracy(params['A3'], Y)\n",
    "                print(f\"Epoc: {epoch + 1}, batch:  {i}/{len(batches)}, loss: {round(loss,4)}, acc: {acc}\")\n",
    "            \n",
    "            i += 1\n",
    "\n",
    "    return params\n",
    "    \n",
    "params = train()"
   ]
  },
  {
   "cell_type": "markdown",
   "metadata": {},
   "source": [
    "## Inferences"
   ]
  },
  {
   "cell_type": "code",
   "execution_count": 93,
   "metadata": {},
   "outputs": [
    {
     "data": {
      "text/plain": [
       "(0, 'T-shirt/top')"
      ]
     },
     "execution_count": 93,
     "metadata": {},
     "output_type": "execute_result"
    }
   ],
   "source": [
    "random_item = 10\n",
    "Y_item_test = Y_test[random_item]\n",
    "X_item_test = X_test[:, random_item, None]\n",
    "\n",
    "Y_item_test, get_article(Y_item_test)"
   ]
  },
  {
   "cell_type": "code",
   "execution_count": 94,
   "metadata": {},
   "outputs": [
    {
     "ename": "IndexError",
     "evalue": "index 10 is out of bounds for axis 0 with size 1",
     "output_type": "error",
     "traceback": [
      "\u001b[0;31m---------------------------------------------------------------------------\u001b[0m",
      "\u001b[0;31mIndexError\u001b[0m                                Traceback (most recent call last)",
      "\u001b[1;32m/Volumes/gipo HD - Datos/gipo/projects/algorithms/neural-networks/deep-nn.ipynb Cell 25\u001b[0m line \u001b[0;36m6\n\u001b[1;32m      <a href='vscode-notebook-cell:/Volumes/gipo%20HD%20-%20Datos/gipo/projects/algorithms/neural-networks/deep-nn.ipynb#X32sZmlsZQ%3D%3D?line=2'>3</a>\u001b[0m     predictions \u001b[39m=\u001b[39m np\u001b[39m.\u001b[39margmax(A3, \u001b[39m0\u001b[39m)\n\u001b[1;32m      <a href='vscode-notebook-cell:/Volumes/gipo%20HD%20-%20Datos/gipo/projects/algorithms/neural-networks/deep-nn.ipynb#X32sZmlsZQ%3D%3D?line=3'>4</a>\u001b[0m     \u001b[39mreturn\u001b[39;00m predictions[index]\n\u001b[0;32m----> <a href='vscode-notebook-cell:/Volumes/gipo%20HD%20-%20Datos/gipo/projects/algorithms/neural-networks/deep-nn.ipynb#X32sZmlsZQ%3D%3D?line=5'>6</a>\u001b[0m item_predicted \u001b[39m=\u001b[39m predict(random_item, X_item_test, W1, b1, W2, b2, W3, b3)\n\u001b[1;32m      <a href='vscode-notebook-cell:/Volumes/gipo%20HD%20-%20Datos/gipo/projects/algorithms/neural-networks/deep-nn.ipynb#X32sZmlsZQ%3D%3D?line=6'>7</a>\u001b[0m item_predicted, get_article(item_predicted)\n",
      "\u001b[1;32m/Volumes/gipo HD - Datos/gipo/projects/algorithms/neural-networks/deep-nn.ipynb Cell 25\u001b[0m line \u001b[0;36m4\n\u001b[1;32m      <a href='vscode-notebook-cell:/Volumes/gipo%20HD%20-%20Datos/gipo/projects/algorithms/neural-networks/deep-nn.ipynb#X32sZmlsZQ%3D%3D?line=1'>2</a>\u001b[0m _, _, _, _, _, A3 \u001b[39m=\u001b[39m forward_propagation(X, W1, b1, W2, b2, W3, b3)\n\u001b[1;32m      <a href='vscode-notebook-cell:/Volumes/gipo%20HD%20-%20Datos/gipo/projects/algorithms/neural-networks/deep-nn.ipynb#X32sZmlsZQ%3D%3D?line=2'>3</a>\u001b[0m predictions \u001b[39m=\u001b[39m np\u001b[39m.\u001b[39margmax(A3, \u001b[39m0\u001b[39m)\n\u001b[0;32m----> <a href='vscode-notebook-cell:/Volumes/gipo%20HD%20-%20Datos/gipo/projects/algorithms/neural-networks/deep-nn.ipynb#X32sZmlsZQ%3D%3D?line=3'>4</a>\u001b[0m \u001b[39mreturn\u001b[39;00m predictions[index]\n",
      "\u001b[0;31mIndexError\u001b[0m: index 10 is out of bounds for axis 0 with size 1"
     ]
    }
   ],
   "source": [
    "def predict(index, X, W1, b1, W2, b2, W3, b3):\n",
    "    _, _, _, _, _, A3 = forward_propagation(X, W1, b1, W2, b2, W3, b3)\n",
    "    predictions = np.argmax(A3, 0)\n",
    "    return predictions[index]\n",
    "\n",
    "item_predicted = predict(random_item, X_item_test, W1, b1, W2, b2, W3, b3)\n",
    "item_predicted, get_article(item_predicted)"
   ]
  },
  {
   "cell_type": "code",
   "execution_count": 95,
   "metadata": {},
   "outputs": [
    {
     "data": {
      "text/plain": [
       "(10, 1)"
      ]
     },
     "execution_count": 95,
     "metadata": {},
     "output_type": "execute_result"
    }
   ],
   "source": [
    "#X_test[:, random_item, None].shape\n",
    "_, _, _, _, _, A3 = forward_propagation(X_item_test, W1, b1, W2, b2, W3, b3)\n",
    "A3.shape"
   ]
  },
  {
   "cell_type": "markdown",
   "metadata": {},
   "source": [
    "#### Actual Image"
   ]
  },
  {
   "cell_type": "code",
   "execution_count": null,
   "metadata": {},
   "outputs": [
    {
     "data": {
      "image/png": "[encoded data removed]",
      "text/plain": [
       "<Figure size 640x480 with 1 Axes>"
      ]
     },
     "metadata": {},
     "output_type": "display_data"
    }
   ],
   "source": [
    "img = X_item_test.reshape((28, 28)) * 255\n",
    "plt.imshow(img)\n",
    "plt.show()"
   ]
  },
  {
   "cell_type": "markdown",
   "metadata": {},
   "source": []
  }
 ],
 "metadata": {
  "interpreter": {
   "hash": "32d73eb8366e1bd09017c2cd34fc4d617acb4fcfecfaff53f90c2b8750da6f2a"
  },
  "kernelspec": {
   "display_name": "Python 3.10.13 64-bit ('alg-venv': venv)",
   "name": "python3"
  },
  "language_info": {
   "codemirror_mode": {
    "name": "ipython",
    "version": 3
   },
   "file_extension": ".py",
   "mimetype": "text/x-python",
   "name": "python",
   "nbconvert_exporter": "python",
   "pygments_lexer": "ipython3",
   "version": "3.10.13"
  },
  "orig_nbformat": 4
 },
 "nbformat": 4,
 "nbformat_minor": 2
}
