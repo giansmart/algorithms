{
 "cells": [
  {
   "cell_type": "markdown",
   "metadata": {},
   "source": [
    "# My Deep Learning Framework"
   ]
  },
  {
   "cell_type": "code",
   "execution_count": 1,
   "metadata": {},
   "outputs": [],
   "source": [
    "import random\n",
    "import matplotlib.pyplot as plt\n",
    "import numpy as np\n",
    "import pandas as pd"
   ]
  },
  {
   "cell_type": "markdown",
   "metadata": {},
   "source": [
    "Labels\n",
    "- 0 T-shirt/top\n",
    "- 1 Trouser\n",
    "- 2 Pullover\n",
    "- 3 Dress\n",
    "- 4 Coat\n",
    "- 5 Sandal\n",
    "- 6 Shirt\n",
    "- 7 Sneaker\n",
    "- 8 Bag\n",
    "- 9 Ankle boot"
   ]
  },
  {
   "cell_type": "code",
   "execution_count": 2,
   "metadata": {},
   "outputs": [],
   "source": [
    "articles = {\n",
    "            0: \"T-shirt/top\", 1: \"Trouser\", 2: \"Pullover\", 3: \"Dress\", 4: \"Coat\", \n",
    "            5: \"Sandal\", 6: \"Shirt\", 7: \"Sneaker\", 8: \"Bag\", 9: \"Ankle boot\"}\n",
    "\n",
    "def get_article(id):\n",
    "    return articles.get(id)"
   ]
  },
  {
   "cell_type": "markdown",
   "metadata": {},
   "source": [
    "## Loading Fashion MNIST data"
   ]
  },
  {
   "cell_type": "markdown",
   "metadata": {},
   "source": [
    "### Working with pandas and numpy"
   ]
  },
  {
   "cell_type": "code",
   "execution_count": 3,
   "metadata": {},
   "outputs": [
    {
     "data": {
      "text/html": [
       "<div>\n",
       "<style scoped>\n",
       "    .dataframe tbody tr th:only-of-type {\n",
       "        vertical-align: middle;\n",
       "    }\n",
       "\n",
       "    .dataframe tbody tr th {\n",
       "        vertical-align: top;\n",
       "    }\n",
       "\n",
       "    .dataframe thead th {\n",
       "        text-align: right;\n",
       "    }\n",
       "</style>\n",
       "<table border=\"1\" class=\"dataframe\">\n",
       "  <thead>\n",
       "    <tr style=\"text-align: right;\">\n",
       "      <th></th>\n",
       "      <th>label</th>\n",
       "      <th>pixel1</th>\n",
       "      <th>pixel2</th>\n",
       "      <th>pixel3</th>\n",
       "      <th>pixel4</th>\n",
       "      <th>pixel5</th>\n",
       "      <th>pixel6</th>\n",
       "      <th>pixel7</th>\n",
       "      <th>pixel8</th>\n",
       "      <th>pixel9</th>\n",
       "      <th>...</th>\n",
       "      <th>pixel775</th>\n",
       "      <th>pixel776</th>\n",
       "      <th>pixel777</th>\n",
       "      <th>pixel778</th>\n",
       "      <th>pixel779</th>\n",
       "      <th>pixel780</th>\n",
       "      <th>pixel781</th>\n",
       "      <th>pixel782</th>\n",
       "      <th>pixel783</th>\n",
       "      <th>pixel784</th>\n",
       "    </tr>\n",
       "  </thead>\n",
       "  <tbody>\n",
       "    <tr>\n",
       "      <th>0</th>\n",
       "      <td>2</td>\n",
       "      <td>0</td>\n",
       "      <td>0</td>\n",
       "      <td>0</td>\n",
       "      <td>0</td>\n",
       "      <td>0</td>\n",
       "      <td>0</td>\n",
       "      <td>0</td>\n",
       "      <td>0</td>\n",
       "      <td>0</td>\n",
       "      <td>...</td>\n",
       "      <td>0</td>\n",
       "      <td>0</td>\n",
       "      <td>0</td>\n",
       "      <td>0</td>\n",
       "      <td>0</td>\n",
       "      <td>0</td>\n",
       "      <td>0</td>\n",
       "      <td>0</td>\n",
       "      <td>0</td>\n",
       "      <td>0</td>\n",
       "    </tr>\n",
       "    <tr>\n",
       "      <th>1</th>\n",
       "      <td>9</td>\n",
       "      <td>0</td>\n",
       "      <td>0</td>\n",
       "      <td>0</td>\n",
       "      <td>0</td>\n",
       "      <td>0</td>\n",
       "      <td>0</td>\n",
       "      <td>0</td>\n",
       "      <td>0</td>\n",
       "      <td>0</td>\n",
       "      <td>...</td>\n",
       "      <td>0</td>\n",
       "      <td>0</td>\n",
       "      <td>0</td>\n",
       "      <td>0</td>\n",
       "      <td>0</td>\n",
       "      <td>0</td>\n",
       "      <td>0</td>\n",
       "      <td>0</td>\n",
       "      <td>0</td>\n",
       "      <td>0</td>\n",
       "    </tr>\n",
       "    <tr>\n",
       "      <th>2</th>\n",
       "      <td>6</td>\n",
       "      <td>0</td>\n",
       "      <td>0</td>\n",
       "      <td>0</td>\n",
       "      <td>0</td>\n",
       "      <td>0</td>\n",
       "      <td>0</td>\n",
       "      <td>0</td>\n",
       "      <td>5</td>\n",
       "      <td>0</td>\n",
       "      <td>...</td>\n",
       "      <td>0</td>\n",
       "      <td>0</td>\n",
       "      <td>0</td>\n",
       "      <td>30</td>\n",
       "      <td>43</td>\n",
       "      <td>0</td>\n",
       "      <td>0</td>\n",
       "      <td>0</td>\n",
       "      <td>0</td>\n",
       "      <td>0</td>\n",
       "    </tr>\n",
       "    <tr>\n",
       "      <th>3</th>\n",
       "      <td>0</td>\n",
       "      <td>0</td>\n",
       "      <td>0</td>\n",
       "      <td>0</td>\n",
       "      <td>1</td>\n",
       "      <td>2</td>\n",
       "      <td>0</td>\n",
       "      <td>0</td>\n",
       "      <td>0</td>\n",
       "      <td>0</td>\n",
       "      <td>...</td>\n",
       "      <td>3</td>\n",
       "      <td>0</td>\n",
       "      <td>0</td>\n",
       "      <td>0</td>\n",
       "      <td>0</td>\n",
       "      <td>1</td>\n",
       "      <td>0</td>\n",
       "      <td>0</td>\n",
       "      <td>0</td>\n",
       "      <td>0</td>\n",
       "    </tr>\n",
       "    <tr>\n",
       "      <th>4</th>\n",
       "      <td>3</td>\n",
       "      <td>0</td>\n",
       "      <td>0</td>\n",
       "      <td>0</td>\n",
       "      <td>0</td>\n",
       "      <td>0</td>\n",
       "      <td>0</td>\n",
       "      <td>0</td>\n",
       "      <td>0</td>\n",
       "      <td>0</td>\n",
       "      <td>...</td>\n",
       "      <td>0</td>\n",
       "      <td>0</td>\n",
       "      <td>0</td>\n",
       "      <td>0</td>\n",
       "      <td>0</td>\n",
       "      <td>0</td>\n",
       "      <td>0</td>\n",
       "      <td>0</td>\n",
       "      <td>0</td>\n",
       "      <td>0</td>\n",
       "    </tr>\n",
       "    <tr>\n",
       "      <th>...</th>\n",
       "      <td>...</td>\n",
       "      <td>...</td>\n",
       "      <td>...</td>\n",
       "      <td>...</td>\n",
       "      <td>...</td>\n",
       "      <td>...</td>\n",
       "      <td>...</td>\n",
       "      <td>...</td>\n",
       "      <td>...</td>\n",
       "      <td>...</td>\n",
       "      <td>...</td>\n",
       "      <td>...</td>\n",
       "      <td>...</td>\n",
       "      <td>...</td>\n",
       "      <td>...</td>\n",
       "      <td>...</td>\n",
       "      <td>...</td>\n",
       "      <td>...</td>\n",
       "      <td>...</td>\n",
       "      <td>...</td>\n",
       "      <td>...</td>\n",
       "    </tr>\n",
       "    <tr>\n",
       "      <th>59995</th>\n",
       "      <td>9</td>\n",
       "      <td>0</td>\n",
       "      <td>0</td>\n",
       "      <td>0</td>\n",
       "      <td>0</td>\n",
       "      <td>0</td>\n",
       "      <td>0</td>\n",
       "      <td>0</td>\n",
       "      <td>0</td>\n",
       "      <td>0</td>\n",
       "      <td>...</td>\n",
       "      <td>0</td>\n",
       "      <td>0</td>\n",
       "      <td>0</td>\n",
       "      <td>0</td>\n",
       "      <td>0</td>\n",
       "      <td>0</td>\n",
       "      <td>0</td>\n",
       "      <td>0</td>\n",
       "      <td>0</td>\n",
       "      <td>0</td>\n",
       "    </tr>\n",
       "    <tr>\n",
       "      <th>59996</th>\n",
       "      <td>1</td>\n",
       "      <td>0</td>\n",
       "      <td>0</td>\n",
       "      <td>0</td>\n",
       "      <td>0</td>\n",
       "      <td>0</td>\n",
       "      <td>0</td>\n",
       "      <td>0</td>\n",
       "      <td>0</td>\n",
       "      <td>0</td>\n",
       "      <td>...</td>\n",
       "      <td>73</td>\n",
       "      <td>0</td>\n",
       "      <td>0</td>\n",
       "      <td>0</td>\n",
       "      <td>0</td>\n",
       "      <td>0</td>\n",
       "      <td>0</td>\n",
       "      <td>0</td>\n",
       "      <td>0</td>\n",
       "      <td>0</td>\n",
       "    </tr>\n",
       "    <tr>\n",
       "      <th>59997</th>\n",
       "      <td>8</td>\n",
       "      <td>0</td>\n",
       "      <td>0</td>\n",
       "      <td>0</td>\n",
       "      <td>0</td>\n",
       "      <td>0</td>\n",
       "      <td>0</td>\n",
       "      <td>0</td>\n",
       "      <td>0</td>\n",
       "      <td>0</td>\n",
       "      <td>...</td>\n",
       "      <td>160</td>\n",
       "      <td>162</td>\n",
       "      <td>163</td>\n",
       "      <td>135</td>\n",
       "      <td>94</td>\n",
       "      <td>0</td>\n",
       "      <td>0</td>\n",
       "      <td>0</td>\n",
       "      <td>0</td>\n",
       "      <td>0</td>\n",
       "    </tr>\n",
       "    <tr>\n",
       "      <th>59998</th>\n",
       "      <td>8</td>\n",
       "      <td>0</td>\n",
       "      <td>0</td>\n",
       "      <td>0</td>\n",
       "      <td>0</td>\n",
       "      <td>0</td>\n",
       "      <td>0</td>\n",
       "      <td>0</td>\n",
       "      <td>0</td>\n",
       "      <td>0</td>\n",
       "      <td>...</td>\n",
       "      <td>0</td>\n",
       "      <td>0</td>\n",
       "      <td>0</td>\n",
       "      <td>0</td>\n",
       "      <td>0</td>\n",
       "      <td>0</td>\n",
       "      <td>0</td>\n",
       "      <td>0</td>\n",
       "      <td>0</td>\n",
       "      <td>0</td>\n",
       "    </tr>\n",
       "    <tr>\n",
       "      <th>59999</th>\n",
       "      <td>7</td>\n",
       "      <td>0</td>\n",
       "      <td>0</td>\n",
       "      <td>0</td>\n",
       "      <td>0</td>\n",
       "      <td>0</td>\n",
       "      <td>0</td>\n",
       "      <td>0</td>\n",
       "      <td>0</td>\n",
       "      <td>0</td>\n",
       "      <td>...</td>\n",
       "      <td>0</td>\n",
       "      <td>0</td>\n",
       "      <td>0</td>\n",
       "      <td>0</td>\n",
       "      <td>0</td>\n",
       "      <td>0</td>\n",
       "      <td>0</td>\n",
       "      <td>0</td>\n",
       "      <td>0</td>\n",
       "      <td>0</td>\n",
       "    </tr>\n",
       "  </tbody>\n",
       "</table>\n",
       "<p>60000 rows × 785 columns</p>\n",
       "</div>"
      ],
      "text/plain": [
       "       label  pixel1  pixel2  pixel3  pixel4  pixel5  pixel6  pixel7  pixel8  \\\n",
       "0          2       0       0       0       0       0       0       0       0   \n",
       "1          9       0       0       0       0       0       0       0       0   \n",
       "2          6       0       0       0       0       0       0       0       5   \n",
       "3          0       0       0       0       1       2       0       0       0   \n",
       "4          3       0       0       0       0       0       0       0       0   \n",
       "...      ...     ...     ...     ...     ...     ...     ...     ...     ...   \n",
       "59995      9       0       0       0       0       0       0       0       0   \n",
       "59996      1       0       0       0       0       0       0       0       0   \n",
       "59997      8       0       0       0       0       0       0       0       0   \n",
       "59998      8       0       0       0       0       0       0       0       0   \n",
       "59999      7       0       0       0       0       0       0       0       0   \n",
       "\n",
       "       pixel9  ...  pixel775  pixel776  pixel777  pixel778  pixel779  \\\n",
       "0           0  ...         0         0         0         0         0   \n",
       "1           0  ...         0         0         0         0         0   \n",
       "2           0  ...         0         0         0        30        43   \n",
       "3           0  ...         3         0         0         0         0   \n",
       "4           0  ...         0         0         0         0         0   \n",
       "...       ...  ...       ...       ...       ...       ...       ...   \n",
       "59995       0  ...         0         0         0         0         0   \n",
       "59996       0  ...        73         0         0         0         0   \n",
       "59997       0  ...       160       162       163       135        94   \n",
       "59998       0  ...         0         0         0         0         0   \n",
       "59999       0  ...         0         0         0         0         0   \n",
       "\n",
       "       pixel780  pixel781  pixel782  pixel783  pixel784  \n",
       "0             0         0         0         0         0  \n",
       "1             0         0         0         0         0  \n",
       "2             0         0         0         0         0  \n",
       "3             1         0         0         0         0  \n",
       "4             0         0         0         0         0  \n",
       "...         ...       ...       ...       ...       ...  \n",
       "59995         0         0         0         0         0  \n",
       "59996         0         0         0         0         0  \n",
       "59997         0         0         0         0         0  \n",
       "59998         0         0         0         0         0  \n",
       "59999         0         0         0         0         0  \n",
       "\n",
       "[60000 rows x 785 columns]"
      ]
     },
     "execution_count": 3,
     "metadata": {},
     "output_type": "execute_result"
    }
   ],
   "source": [
    "base_data_path = 'fashion-mnist-data'\n",
    "df = pd.read_csv(f'./{base_data_path}/fashion-mnist_train.csv')\n",
    "df"
   ]
  },
  {
   "cell_type": "markdown",
   "metadata": {},
   "source": [
    "### Building the Neural Network"
   ]
  },
  {
   "cell_type": "code",
   "execution_count": 84,
   "metadata": {},
   "outputs": [
    {
     "data": {
      "text/plain": [
       "array([0.65900114, 0.24243297, 0.09856589])"
      ]
     },
     "execution_count": 84,
     "metadata": {},
     "output_type": "execute_result"
    }
   ],
   "source": [
    "def init_params(batch_size: int, layers_neurons: list):\n",
    "    W1 = np.random.randn(batch_size, layers_neurons[0])\n",
    "    b1 = np.zeros(shape=(batch_size, 1))\n",
    "\n",
    "    W2 = np.random.randn(layers_neurons[1], batch_size)\n",
    "    b2 = np.zeros(shape=(layers_neurons[1], 1))\n",
    "\n",
    "    W3 = np.random.randn(layers_neurons[2], layers_neurons[1])\n",
    "    b3 = np.zeros(shape=(layers_neurons[2],1))\n",
    "    \n",
    "    return W1, b1, W2, b2, W3, b3\n",
    "\n",
    "def relu(x):\n",
    "    return np.maximum(x, 0)\n",
    "\n",
    "def softmax(x):\n",
    "    z = x - np.max(x, axis=0)\n",
    "    probs = np.exp(z) / np.sum(np.exp(z), axis=0)\n",
    "    return probs\n",
    "\n",
    "def cross_entropy_loss(y_hat, y_one_hot):\n",
    "    # y_one_hot es un vector con las probabilidades reales (etiquetas verdaderas)\n",
    "    # y_hat es un vector con las probabilidades predichas por el modelo\n",
    "    epsilon = 1e-15  # Valor pequeño para evitar divisiones por cero\n",
    "    y_hat = np.maximum(epsilon, y_hat)  # Asegurarse de que no haya valores cercanos a cero\n",
    "    return - np.sum(y_one_hot * np.log(y_hat))\n",
    "\n",
    "def relu_prime(z):\n",
    "    #z[ z <= 0] = 0\n",
    "    return z > 0\n",
    "\n",
    "def one_hot(y, k=10):\n",
    "    #one_hot_y = np.zeros(shape=(y.size, k))\n",
    "    #classes = np.arange(y.size)\n",
    "    #one_hot_y[classes, y] = 1\n",
    "    one_hot_y = np.zeros((y.size, 10)) # 10 classes\n",
    "    one_hot_y[np.arange(y.size), y] = 1\n",
    "    # return the same format as 784 x batch_size\n",
    "    return one_hot_y.T\n",
    "\n",
    "def forward_propagation(X, W1, b1, W2, b2, W3, b3):\n",
    "    Z1 = np.dot(W1, X) + b1\n",
    "    A1 = relu(Z1)\n",
    "    Z2 = np.dot(W2, A1) + b2\n",
    "    A2 = relu(Z2)\n",
    "    Z3 = np.dot(W3, A2) + b3\n",
    "    A3 = softmax(Z3)\n",
    "\n",
    "    return Z1, A1, Z2, A2, Z3, A3\n",
    "\n",
    "def backward_propagation(X, Y_one_hot, Z1, A1, Z2, A2, Z3, A3, W1, W2, W3):\n",
    "    m = X.shape[1] # samples \n",
    "\n",
    "    dZ3 = A3 - Y_one_hot\n",
    "    dW3 = 1/m * (dZ3 @ A2.T)\n",
    "    db3 = 1/m * np.sum(dZ3, 1)\n",
    "\n",
    "    dA2 = W3.T @ dZ3\n",
    "    dZ2 = dA2 * relu_prime(Z2)\n",
    "    dW2 = 1/m * (dZ2 @ A1.T)\n",
    "    db2 =  1/m * np.sum(dZ2, 1)\n",
    "\n",
    "    dA1 = W2.T @ dZ2\n",
    "    dZ1 = dA1 * relu_prime(Z1)\n",
    "    dW1 = 1/m * (dZ1 @ X.T)\n",
    "    db1 = 1/m * np.sum(dZ1, 1)\n",
    "\n",
    "    return dW1, db1, dW2, db2, dW3, db3\n",
    "\n",
    "def update_params(lr: float,layers_neurons: list, W1, b1, W2, b2, W3, b3, dW1, db1, dW2, db2, dW3, db3):\n",
    "    W1 = W1 - lr * dW1\n",
    "    b1 = b1 - lr * db1.reshape(len(W1),1)\n",
    "    W2 = W2 - lr * dW2\n",
    "    b2 = b2 - lr * db2.reshape(layers_neurons[1],1)\n",
    "    W3 = W3 - lr * dW3\n",
    "    #print(f\"b3: {b3.shape}, db3: {db3.shape}\")\n",
    "    b3 = b3 - lr * db3.reshape(layers_neurons[2], 1)\n",
    "    return W1, b1, W2, b2, W3, b3\n",
    "\n",
    "def get_batches(total_samples, batch_size=16):\n",
    "    batches = []\n",
    "    for split in range(0, total_samples, batch_size):\n",
    "        if split + batch_size > total_samples: break\n",
    "        start_index = split\n",
    "        end_index = split + batch_size #if (split + batch_size <= total_samples)  else  total_samples\n",
    "        batches.append((start_index, end_index))\n",
    "    return batches\n",
    "\n",
    "def get_accuracy(y_hat, y):\n",
    "    predictions = np.argmax(y_hat, 0)\n",
    "    return np.sum(predictions == y) / y.size\n",
    "\n",
    "#get_batches(100)\n",
    "\n",
    "#A = [[-1, 0.5, -0.23], [0.67, -2.8, 2.12]]\n",
    "#print(relu(A))\n",
    "#print(softmax(A))\n",
    "\n",
    "input_vector = np.array([2, 1.0, 0.1])\n",
    "softmax(input_vector)"
   ]
  },
  {
   "cell_type": "code",
   "execution_count": 76,
   "metadata": {},
   "outputs": [],
   "source": [
    "#TOTAL_SAMPLES = 6000 # it could be the total number\n",
    "TEST_SAMPLES = 1000\n",
    "\n",
    "data = np.array(df)\n",
    "#data = data[0:TOTAL_SAMPLES,] # limiting the train samples\n",
    "m, n = data.shape # 60000, 785 # 6000 x 785\n",
    "np.random.shuffle(data)\n",
    "\n",
    "data_test = data[0:TEST_SAMPLES].T # 785, 1000 \n",
    "X_test = data_test[1:n] \n",
    "Y_test = data_test[0]\n",
    "\n",
    "data_train = data[TEST_SAMPLES:].T\n",
    "X_train = data_train[1:n]\n",
    "Y_train = data_train[0]\n",
    "\n",
    "# Normalization\n",
    "X_test = X_test / 255\n",
    "X_train = X_train / 255"
   ]
  },
  {
   "cell_type": "markdown",
   "metadata": {},
   "source": [
    "Creating a Neural Network with:\n",
    "- 3 layers: 1 input, 1 hidden, 1 output\n",
    "- hidden layer"
   ]
  },
  {
   "cell_type": "code",
   "execution_count": 85,
   "metadata": {},
   "outputs": [
    {
     "name": "stdout",
     "output_type": "stream",
     "text": [
      "Epoc: 1, loss: 198.0333\n"
     ]
    },
    {
     "ename": "KeyboardInterrupt",
     "evalue": "",
     "output_type": "error",
     "traceback": [
      "\u001b[0;31m---------------------------------------------------------------------------\u001b[0m",
      "\u001b[0;31mKeyboardInterrupt\u001b[0m                         Traceback (most recent call last)",
      "Cell \u001b[0;32mIn[85], line 35\u001b[0m\n\u001b[1;32m     31\u001b[0m         errors\u001b[38;5;241m.\u001b[39mappend(loss)\n\u001b[1;32m     33\u001b[0m     \u001b[38;5;28;01mreturn\u001b[39;00m W1, b1, W2, b2, W3, b3\n\u001b[0;32m---> 35\u001b[0m W1, b1, W2, b2, W3, b3 \u001b[38;5;241m=\u001b[39m \u001b[43mtrain\u001b[49m\u001b[43m(\u001b[49m\u001b[43m)\u001b[49m\n",
      "Cell \u001b[0;32mIn[85], line 22\u001b[0m, in \u001b[0;36mtrain\u001b[0;34m()\u001b[0m\n\u001b[1;32m     20\u001b[0m Y_batch \u001b[38;5;241m=\u001b[39m Y[ i: i \u001b[38;5;241m+\u001b[39m batch_size ]\n\u001b[1;32m     21\u001b[0m Z1, A1, Z2, A2, Z3, A3 \u001b[38;5;241m=\u001b[39m forward_propagation(X_batch, W1, b1, W2, b2, W3, b3)\n\u001b[0;32m---> 22\u001b[0m y_one_hot \u001b[38;5;241m=\u001b[39m \u001b[43mone_hot\u001b[49m\u001b[43m(\u001b[49m\u001b[43mY_batch\u001b[49m\u001b[43m)\u001b[49m\n\u001b[1;32m     23\u001b[0m loss \u001b[38;5;241m=\u001b[39m cross_entropy_loss(A3, y_one_hot) \u001b[38;5;66;03m# y_hat - y\u001b[39;00m\n\u001b[1;32m     25\u001b[0m dW1, db1, dW2, db2, dW3, db3 \u001b[38;5;241m=\u001b[39m backward_propagation(X_batch, y_one_hot, Z1, A1, Z2, A2, Z3, A3, W1, W2, W3)\n",
      "Cell \u001b[0;32mIn[84], line 37\u001b[0m, in \u001b[0;36mone_hot\u001b[0;34m(y, k)\u001b[0m\n\u001b[1;32m     32\u001b[0m \u001b[38;5;28;01mdef\u001b[39;00m \u001b[38;5;21mone_hot\u001b[39m(y, k\u001b[38;5;241m=\u001b[39m\u001b[38;5;241m10\u001b[39m):\n\u001b[1;32m     33\u001b[0m     \u001b[38;5;66;03m#one_hot_y = np.zeros(shape=(y.size, k))\u001b[39;00m\n\u001b[1;32m     34\u001b[0m     \u001b[38;5;66;03m#classes = np.arange(y.size)\u001b[39;00m\n\u001b[1;32m     35\u001b[0m     \u001b[38;5;66;03m#one_hot_y[classes, y] = 1\u001b[39;00m\n\u001b[1;32m     36\u001b[0m     one_hot_y \u001b[38;5;241m=\u001b[39m np\u001b[38;5;241m.\u001b[39mzeros((y\u001b[38;5;241m.\u001b[39msize, \u001b[38;5;241m10\u001b[39m)) \u001b[38;5;66;03m# 10 classes\u001b[39;00m\n\u001b[0;32m---> 37\u001b[0m     one_hot_y[\u001b[43mnp\u001b[49m\u001b[38;5;241;43m.\u001b[39;49m\u001b[43marange\u001b[49m\u001b[43m(\u001b[49m\u001b[43my\u001b[49m\u001b[38;5;241;43m.\u001b[39;49m\u001b[43msize\u001b[49m\u001b[43m)\u001b[49m, y] \u001b[38;5;241m=\u001b[39m \u001b[38;5;241m1\u001b[39m\n\u001b[1;32m     38\u001b[0m     \u001b[38;5;66;03m# return the same format as 784 x batch_size\u001b[39;00m\n\u001b[1;32m     39\u001b[0m     \u001b[38;5;28;01mreturn\u001b[39;00m one_hot_y\u001b[38;5;241m.\u001b[39mT\n",
      "\u001b[0;31mKeyboardInterrupt\u001b[0m: "
     ]
    }
   ],
   "source": [
    "# Hyperparams\n",
    "batch_size = 100\n",
    "epochs = 300\n",
    "learning_rate = 0.05\n",
    "\n",
    "layers_neurons = [784, 25, 10]\n",
    "total_samples = len(Y_train)\n",
    "errors = []\n",
    "\n",
    "def train():\n",
    "    X = X_train\n",
    "    Y = Y_train\n",
    "\n",
    "    W1, b1, W2, b2, W3, b3 = init_params(batch_size, layers_neurons)\n",
    "\n",
    "    for epoch in range(epochs):\n",
    "        \n",
    "        for i in range(0, total_samples, batch_size):\n",
    "            X_batch = X[ :, i: i + batch_size ]\n",
    "            Y_batch = Y[ i: i + batch_size ]\n",
    "            Z1, A1, Z2, A2, Z3, A3 = forward_propagation(X_batch, W1, b1, W2, b2, W3, b3)\n",
    "            y_one_hot = one_hot(Y_batch)\n",
    "            loss = cross_entropy_loss(A3, y_one_hot) # y_hat - y\n",
    "\n",
    "            dW1, db1, dW2, db2, dW3, db3 = backward_propagation(X_batch, y_one_hot, Z1, A1, Z2, A2, Z3, A3, W1, W2, W3)\n",
    "            W1, b1, W2, b2, W3, b3 = update_params(learning_rate, layers_neurons, W1, b1, W2, b2, W3, b3, dW1, db1, dW2, db2, dW3, db3)\n",
    "        \n",
    "        if epoch == 0 or (epoch + 1) % 50  == 0:\n",
    "            #acc = get_accuracy(A3, Y)\n",
    "            print(f\"Epoc: {epoch + 1}, loss: {round(loss,4)}\")\n",
    "        errors.append(loss)\n",
    "            \n",
    "    return W1, b1, W2, b2, W3, b3\n",
    "    \n",
    "W1, b1, W2, b2, W3, b3 = train()"
   ]
  },
  {
   "cell_type": "markdown",
   "metadata": {},
   "source": [
    "#### Analyzing Epochs and Loss"
   ]
  },
  {
   "cell_type": "code",
   "execution_count": 43,
   "metadata": {},
   "outputs": [
    {
     "data": {
      "text/plain": [
       "[<matplotlib.lines.Line2D at 0x1203b3070>]"
      ]
     },
     "execution_count": 43,
     "metadata": {},
     "output_type": "execute_result"
    },
    {
     "data": {
      "image/png": "[encoded data removed]",
      "text/plain": [
       "<Figure size 640x480 with 1 Axes>"
      ]
     },
     "metadata": {},
     "output_type": "display_data"
    }
   ],
   "source": [
    "import matplotlib.pyplot as plt\n",
    "plt.xlabel('Epocs')\n",
    "plt.ylabel('Error')\n",
    "plt.plot(errors)"
   ]
  },
  {
   "cell_type": "markdown",
   "metadata": {},
   "source": [
    "## Inferences"
   ]
  },
  {
   "cell_type": "code",
   "execution_count": 74,
   "metadata": {},
   "outputs": [
    {
     "data": {
      "text/plain": [
       "((100, 784), (784, 1))"
      ]
     },
     "execution_count": 74,
     "metadata": {},
     "output_type": "execute_result"
    }
   ],
   "source": [
    "X_test.shape\n",
    "X_test[:, 10, None ].shape\n",
    "X_test[: , 10].shape\n",
    "W1.shape, X_test[: , 10].reshape(784, 1).shape"
   ]
  },
  {
   "cell_type": "code",
   "execution_count": 82,
   "metadata": {},
   "outputs": [
    {
     "data": {
      "text/plain": [
       "(8, 'Bag')"
      ]
     },
     "execution_count": 82,
     "metadata": {},
     "output_type": "execute_result"
    }
   ],
   "source": [
    "random_item = 10\n",
    "Y_item_test = Y_test[random_item]\n",
    "X_item_test = X_test[:, random_item ].reshape( 784, 1) # X_test[:, random_item, None]\n",
    "\n",
    "Y_item_test, get_article(Y_item_test)"
   ]
  },
  {
   "cell_type": "code",
   "execution_count": 83,
   "metadata": {},
   "outputs": [
    {
     "ename": "ValueError",
     "evalue": "shapes (1,784) and (100,784) not aligned: 784 (dim 1) != 100 (dim 0)",
     "output_type": "error",
     "traceback": [
      "\u001b[0;31m---------------------------------------------------------------------------\u001b[0m",
      "\u001b[0;31mValueError\u001b[0m                                Traceback (most recent call last)",
      "Cell \u001b[0;32mIn[83], line 6\u001b[0m\n\u001b[1;32m      3\u001b[0m     predictions \u001b[38;5;241m=\u001b[39m np\u001b[38;5;241m.\u001b[39margmax(A3, axis\u001b[38;5;241m=\u001b[39m\u001b[38;5;241m1\u001b[39m)\n\u001b[1;32m      4\u001b[0m     \u001b[38;5;28;01mreturn\u001b[39;00m predictions[index]\n\u001b[0;32m----> 6\u001b[0m item_predicted \u001b[38;5;241m=\u001b[39m \u001b[43mpredict\u001b[49m\u001b[43m(\u001b[49m\u001b[43mrandom_item\u001b[49m\u001b[43m,\u001b[49m\u001b[43m \u001b[49m\u001b[43mX_item_test\u001b[49m\u001b[38;5;241;43m.\u001b[39;49m\u001b[43mT\u001b[49m\u001b[43m,\u001b[49m\u001b[43m \u001b[49m\u001b[43mW1\u001b[49m\u001b[43m,\u001b[49m\u001b[43m \u001b[49m\u001b[43mb1\u001b[49m\u001b[43m,\u001b[49m\u001b[43m \u001b[49m\u001b[43mW2\u001b[49m\u001b[43m,\u001b[49m\u001b[43m \u001b[49m\u001b[43mb2\u001b[49m\u001b[43m,\u001b[49m\u001b[43m \u001b[49m\u001b[43mW3\u001b[49m\u001b[43m,\u001b[49m\u001b[43m \u001b[49m\u001b[43mb3\u001b[49m\u001b[43m)\u001b[49m\n\u001b[1;32m      7\u001b[0m item_predicted\n\u001b[1;32m      8\u001b[0m item_predicted, get_article(item_predicted)\n",
      "Cell \u001b[0;32mIn[83], line 2\u001b[0m, in \u001b[0;36mpredict\u001b[0;34m(index, X, W1, b1, W2, b2, W3, b3)\u001b[0m\n\u001b[1;32m      1\u001b[0m \u001b[38;5;28;01mdef\u001b[39;00m \u001b[38;5;21mpredict\u001b[39m(index, X, W1, b1, W2, b2, W3, b3):\n\u001b[0;32m----> 2\u001b[0m     _, _, _, _, _, A3 \u001b[38;5;241m=\u001b[39m \u001b[43mforward_propagation\u001b[49m\u001b[43m(\u001b[49m\u001b[43mX\u001b[49m\u001b[43m,\u001b[49m\u001b[43m \u001b[49m\u001b[43mW1\u001b[49m\u001b[43m,\u001b[49m\u001b[43m \u001b[49m\u001b[43mb1\u001b[49m\u001b[43m,\u001b[49m\u001b[43m \u001b[49m\u001b[43mW2\u001b[49m\u001b[43m,\u001b[49m\u001b[43m \u001b[49m\u001b[43mb2\u001b[49m\u001b[43m,\u001b[49m\u001b[43m \u001b[49m\u001b[43mW3\u001b[49m\u001b[43m,\u001b[49m\u001b[43m \u001b[49m\u001b[43mb3\u001b[49m\u001b[43m)\u001b[49m\n\u001b[1;32m      3\u001b[0m     predictions \u001b[38;5;241m=\u001b[39m np\u001b[38;5;241m.\u001b[39margmax(A3, axis\u001b[38;5;241m=\u001b[39m\u001b[38;5;241m1\u001b[39m)\n\u001b[1;32m      4\u001b[0m     \u001b[38;5;28;01mreturn\u001b[39;00m predictions[index]\n",
      "Cell \u001b[0;32mIn[75], line 42\u001b[0m, in \u001b[0;36mforward_propagation\u001b[0;34m(X, W1, b1, W2, b2, W3, b3)\u001b[0m\n\u001b[1;32m     41\u001b[0m \u001b[38;5;28;01mdef\u001b[39;00m \u001b[38;5;21mforward_propagation\u001b[39m(X, W1, b1, W2, b2, W3, b3):\n\u001b[0;32m---> 42\u001b[0m     Z1 \u001b[38;5;241m=\u001b[39m \u001b[43mnp\u001b[49m\u001b[38;5;241;43m.\u001b[39;49m\u001b[43mdot\u001b[49m\u001b[43m(\u001b[49m\u001b[43mX\u001b[49m\u001b[43m,\u001b[49m\u001b[43m \u001b[49m\u001b[43mW1\u001b[49m\u001b[43m)\u001b[49m \u001b[38;5;241m+\u001b[39m b1 \u001b[38;5;66;03m#np.dot(W1, X) + b1\u001b[39;00m\n\u001b[1;32m     43\u001b[0m     A1 \u001b[38;5;241m=\u001b[39m relu(Z1)\n\u001b[1;32m     44\u001b[0m     Z2 \u001b[38;5;241m=\u001b[39m np\u001b[38;5;241m.\u001b[39mdot(A1, W2) \u001b[38;5;241m+\u001b[39m b2 \u001b[38;5;66;03m# np.dot(W2, A1) + b2\u001b[39;00m\n",
      "\u001b[0;31mValueError\u001b[0m: shapes (1,784) and (100,784) not aligned: 784 (dim 1) != 100 (dim 0)"
     ]
    }
   ],
   "source": [
    "def predict(index, X, W1, b1, W2, b2, W3, b3):\n",
    "    _, _, _, _, _, A3 = forward_propagation(X, W1, b1, W2, b2, W3, b3)\n",
    "    predictions = np.argmax(A3, axis=1)\n",
    "    return predictions[index]\n",
    "\n",
    "item_predicted = predict(random_item, X_item_test, W1, b1, W2, b2, W3, b3)\n",
    "item_predicted\n",
    "item_predicted, get_article(item_predicted)"
   ]
  },
  {
   "cell_type": "code",
   "execution_count": 50,
   "metadata": {},
   "outputs": [
    {
     "data": {
      "text/plain": [
       "(10, 100)"
      ]
     },
     "execution_count": 50,
     "metadata": {},
     "output_type": "execute_result"
    }
   ],
   "source": [
    "#X_test[:, random_item, None].shape\n",
    "_, _, _, _, _, A3 = forward_propagation(X_item_test, W1, b1, W2, b2, W3, b3)\n",
    "A3.shape"
   ]
  },
  {
   "cell_type": "markdown",
   "metadata": {},
   "source": [
    "#### Actual Image"
   ]
  },
  {
   "cell_type": "code",
   "execution_count": 45,
   "metadata": {},
   "outputs": [
    {
     "data": {
      "image/png": "[encoded data removed]",
      "text/plain": [
       "<Figure size 640x480 with 1 Axes>"
      ]
     },
     "metadata": {},
     "output_type": "display_data"
    }
   ],
   "source": [
    "img = X_item_test.reshape((28, 28)) * 255\n",
    "plt.imshow(img)\n",
    "plt.show()"
   ]
  },
  {
   "cell_type": "markdown",
   "metadata": {},
   "source": []
  }
 ],
 "metadata": {
  "interpreter": {
   "hash": "32d73eb8366e1bd09017c2cd34fc4d617acb4fcfecfaff53f90c2b8750da6f2a"
  },
  "kernelspec": {
   "display_name": "Python 3.10.13 64-bit ('alg-venv': venv)",
   "name": "python3"
  },
  "language_info": {
   "codemirror_mode": {
    "name": "ipython",
    "version": 3
   },
   "file_extension": ".py",
   "mimetype": "text/x-python",
   "name": "python",
   "nbconvert_exporter": "python",
   "pygments_lexer": "ipython3",
   "version": "3.10.13"
  },
  "orig_nbformat": 4
 },
 "nbformat": 4,
 "nbformat_minor": 2
}
