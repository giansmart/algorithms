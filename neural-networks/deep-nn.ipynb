{
 "cells": [
  {
   "cell_type": "markdown",
   "source": [
    "# My Deep Learning Framework"
   ],
   "metadata": {}
  },
  {
   "cell_type": "code",
   "execution_count": 1,
   "source": [
    "import random\n",
    "import matplotlib.pyplot as plt\n",
    "import numpy as np\n",
    "import pandas as pd"
   ],
   "outputs": [],
   "metadata": {}
  },
  {
   "cell_type": "markdown",
   "source": [
    "Labels\n",
    "- 0 T-shirt/top\n",
    "- 1 Trouser\n",
    "- 2 Pullover\n",
    "- 3 Dress\n",
    "- 4 Coat\n",
    "- 5 Sandal\n",
    "- 6 Shirt\n",
    "- 7 Sneaker\n",
    "- 8 Bag\n",
    "- 9 Ankle boot"
   ],
   "metadata": {}
  },
  {
   "cell_type": "code",
   "execution_count": 2,
   "source": [
    "articles = {\n",
    "            0: \"T-shirt/top\", 1: \"Trouser\", 2: \"Pullover\", 3: \"Dress\", 4: \"Coat\", \n",
    "            5: \"Sandal\", 6: \"Shirt\", 7: \"Sneaker\", 8: \"Bag\", 9: \"Ankle boot\"}\n",
    "\n",
    "def get_article(id):\n",
    "    return articles.get(id)"
   ],
   "outputs": [],
   "metadata": {}
  },
  {
   "cell_type": "markdown",
   "source": [
    "### Matrix Utilities"
   ],
   "metadata": {}
  },
  {
   "cell_type": "code",
   "execution_count": 3,
   "source": [
    "def random_matrix(n_rows, n_cols, n_decimals=4):\n",
    "    matrix = []\n",
    "    for _ in range(n_rows):\n",
    "        cols = []\n",
    "        for _ in range(n_cols):\n",
    "            number = round(random.random(),n_decimals)\n",
    "            cols.append(number)\n",
    "        matrix.append(cols)\n",
    "    return matrix\n",
    "    \n",
    "def create_matrix(n_rows, n_cols, value=0):\n",
    "    return [ [ value for _ in range(n_cols)] for _ in range(n_rows) ]\n",
    "\n",
    "def create_vector(n_size, value=0):\n",
    "    return [value for _ in range(n_size)]\n",
    "\n",
    "\n",
    "def reshape_vector(vector, n_rows):\n",
    "    matrix = []\n",
    "    n_cols = int(len(vector) / n_rows)\n",
    "    begin = 0\n",
    "    for _ in range(n_rows):\n",
    "        row = vector[begin : begin + n_cols]\n",
    "        matrix.append(row)\n",
    "        begin +=  n_cols\n",
    "    return matrix\n",
    "\n",
    "def multiply_matrix(matrix_A, matrix_B):\n",
    "    A_rows, A_cols = len(matrix_A), len(matrix_A[0])\n",
    "    B_rows, B_cols = len(matrix_B), len(matrix_B[0])\n",
    "\n",
    "    #if A_cols != B_rows: \n",
    "    #    raise ValueError(f\"Incompatible dimentions: A col: {A_cols} != {B_rows}\" )\n",
    "    \n",
    "    result_matrix = create_matrix(A_rows, B_cols)\n",
    "    \n",
    "    for i in range(A_rows):\n",
    "        for j in range(B_cols):\n",
    "            for k in range(B_rows):\n",
    "                result_matrix[i][j] += matrix_A[i][k] * matrix_B[k][j]\n",
    "\n",
    "    return result_matrix\n",
    "\n",
    "#print(random_matrix(2,2))\n",
    "#rint(create_vector(5))\n",
    "#print(create_matrix(5, 2))\n",
    "#print(reshape_vector([1,2,3,4,5,6], 3))\n",
    "A = [[1, 2, 3], \n",
    "    [4, 5, 6]]\n",
    "B = [[1, 2, 3, 4], \n",
    "    [5, 6, 7, 8], \n",
    "    [9, 10, 11, 12]]\n",
    "\n",
    "multiply_matrix(A, B)"
   ],
   "outputs": [
    {
     "output_type": "execute_result",
     "data": {
      "text/plain": [
       "[[38, 44, 50, 56], [83, 98, 113, 128]]"
      ]
     },
     "metadata": {},
     "execution_count": 3
    }
   ],
   "metadata": {}
  },
  {
   "cell_type": "markdown",
   "source": [
    "## Loading Fashion MNIST data"
   ],
   "metadata": {}
  },
  {
   "cell_type": "markdown",
   "source": [
    "### Loading without libraries"
   ],
   "metadata": {}
  },
  {
   "cell_type": "code",
   "execution_count": 4,
   "source": [
    "base_data_path = 'fashion-mnist-data'\n",
    "\n",
    "def load_data():\n",
    "    y_data = []\n",
    "    x_data = []\n",
    "\n",
    "    with open(f'./{base_data_path}/fashion-mnist_train.csv', \"r\") as file:\n",
    "        next(file)\n",
    "        for index, line in enumerate(file.readlines()):\n",
    "            y_data.append(int(line.split(\",\")[0]))\n",
    "            x_data.append([ int(pixel) for pixel in line.split(\",\")[1:] ])\n",
    "            if index >= 16: break\n",
    "    return x_data, y_data\n",
    "\n",
    "X,Y = load_data()"
   ],
   "outputs": [],
   "metadata": {}
  },
  {
   "cell_type": "code",
   "execution_count": 5,
   "source": [
    "len(X), len(X[0])"
   ],
   "outputs": [
    {
     "output_type": "execute_result",
     "data": {
      "text/plain": [
       "(17, 784)"
      ]
     },
     "metadata": {},
     "execution_count": 5
    }
   ],
   "metadata": {}
  },
  {
   "cell_type": "code",
   "execution_count": 6,
   "source": [
    "x_img = reshape_vector(X[1],28)\n",
    "plt.imshow(x_img)\n",
    "plt.show()\n",
    "Y[1], get_article(Y[1])"
   ],
   "outputs": [
    {
     "output_type": "display_data",
     "data": {
      "text/plain": [
       "<Figure size 640x480 with 1 Axes>"
      ],
      "image/svg+xml": "<?xml version=\"1.0\" encoding=\"utf-8\" standalone=\"no\"?>\n<!DOCTYPE svg PUBLIC \"-//W3C//DTD SVG 1.1//EN\"\n  \"http://www.w3.org/Graphics/SVG/1.1/DTD/svg11.dtd\">\n<svg xmlns:xlink=\"http://www.w3.org/1999/xlink\" width=\"300.237pt\" height=\"297.190125pt\" viewBox=\"0 0 300.237 297.190125\" xmlns=\"http://www.w3.org/2000/svg\" version=\"1.1\">\n <metadata>\n  <rdf:RDF xmlns:dc=\"http://purl.org/dc/elements/1.1/\" xmlns:cc=\"http://creativecommons.org/ns#\" xmlns:rdf=\"http://www.w3.org/1999/02/22-rdf-syntax-ns#\">\n   <cc:Work>\n    <dc:type rdf:resource=\"http://purl.org/dc/dcmitype/StillImage\"/>\n    <dc:date>2023-10-24T23:47:32.543833</dc:date>\n    <dc:format>image/svg+xml</dc:format>\n    <dc:creator>\n     <cc:Agent>\n      <dc:title>Matplotlib v3.8.0, https://matplotlib.org/</dc:title>\n     </cc:Agent>\n    </dc:creator>\n   </cc:Work>\n  </rdf:RDF>\n </metadata>\n <defs>\n  <style type=\"text/css\">*{stroke-linejoin: round; stroke-linecap: butt}</style>\n </defs>\n <g id=\"figure_1\">\n  <g id=\"patch_1\">\n   <path d=\"M -0 297.190125 \nL 300.237 297.190125 \nL 300.237 0 \nL -0 0 \nz\n\" style=\"fill: #ffffff\"/>\n  </g>\n  <g id=\"axes_1\">\n   <g id=\"patch_2\">\n    <path d=\"M 26.925 273.312 \nL 293.037 273.312 \nL 293.037 7.2 \nL 26.925 7.2 \nz\n\" style=\"fill: #ffffff\"/>\n   </g>\n   <g clip-path=\"url(#pc07fc02930)\">\n    <image xlink:href=\"data:image/png;base64,\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\" id=\"image26416efdf3\" transform=\"scale(1 -1) translate(0 -266.4)\" x=\"26.925\" y=\"-6.912\" width=\"266.4\" height=\"266.4\"/>\n   </g>\n   <g id=\"matplotlib.axis_1\">\n    <g id=\"xtick_1\">\n     <g id=\"line2d_1\">\n      <defs>\n       <path id=\"m9aefa5ee4b\" d=\"M 0 0 \nL 0 3.5 \n\" style=\"stroke: #000000; stroke-width: 0.8\"/>\n      </defs>\n      <g>\n       <use xlink:href=\"#m9aefa5ee4b\" x=\"31.677\" y=\"273.312\" style=\"stroke: #000000; stroke-width: 0.8\"/>\n      </g>\n     </g>\n     <g id=\"text_1\">\n      <!-- 0 -->\n      <g transform=\"translate(28.49575 287.910437) scale(0.1 -0.1)\">\n       <defs>\n        <path id=\"DejaVuSans-30\" d=\"M 2034 4250 \nQ 1547 4250 1301 3770 \nQ 1056 3291 1056 2328 \nQ 1056 1369 1301 889 \nQ 1547 409 2034 409 \nQ 2525 409 2770 889 \nQ 3016 1369 3016 2328 \nQ 3016 3291 2770 3770 \nQ 2525 4250 2034 4250 \nz\nM 2034 4750 \nQ 2819 4750 3233 4129 \nQ 3647 3509 3647 2328 \nQ 3647 1150 3233 529 \nQ 2819 -91 2034 -91 \nQ 1250 -91 836 529 \nQ 422 1150 422 2328 \nQ 422 3509 836 4129 \nQ 1250 4750 2034 4750 \nz\n\" transform=\"scale(0.015625)\"/>\n       </defs>\n       <use xlink:href=\"#DejaVuSans-30\"/>\n      </g>\n     </g>\n    </g>\n    <g id=\"xtick_2\">\n     <g id=\"line2d_2\">\n      <g>\n       <use xlink:href=\"#m9aefa5ee4b\" x=\"79.197\" y=\"273.312\" style=\"stroke: #000000; stroke-width: 0.8\"/>\n      </g>\n     </g>\n     <g id=\"text_2\">\n      <!-- 5 -->\n      <g transform=\"translate(76.01575 287.910437) scale(0.1 -0.1)\">\n       <defs>\n        <path id=\"DejaVuSans-35\" d=\"M 691 4666 \nL 3169 4666 \nL 3169 4134 \nL 1269 4134 \nL 1269 2991 \nQ 1406 3038 1543 3061 \nQ 1681 3084 1819 3084 \nQ 2600 3084 3056 2656 \nQ 3513 2228 3513 1497 \nQ 3513 744 3044 326 \nQ 2575 -91 1722 -91 \nQ 1428 -91 1123 -41 \nQ 819 9 494 109 \nL 494 744 \nQ 775 591 1075 516 \nQ 1375 441 1709 441 \nQ 2250 441 2565 725 \nQ 2881 1009 2881 1497 \nQ 2881 1984 2565 2268 \nQ 2250 2553 1709 2553 \nQ 1456 2553 1204 2497 \nQ 953 2441 691 2322 \nL 691 4666 \nz\n\" transform=\"scale(0.015625)\"/>\n       </defs>\n       <use xlink:href=\"#DejaVuSans-35\"/>\n      </g>\n     </g>\n    </g>\n    <g id=\"xtick_3\">\n     <g id=\"line2d_3\">\n      <g>\n       <use xlink:href=\"#m9aefa5ee4b\" x=\"126.717\" y=\"273.312\" style=\"stroke: #000000; stroke-width: 0.8\"/>\n      </g>\n     </g>\n     <g id=\"text_3\">\n      <!-- 10 -->\n      <g transform=\"translate(120.3545 287.910437) scale(0.1 -0.1)\">\n       <defs>\n        <path id=\"DejaVuSans-31\" d=\"M 794 531 \nL 1825 531 \nL 1825 4091 \nL 703 3866 \nL 703 4441 \nL 1819 4666 \nL 2450 4666 \nL 2450 531 \nL 3481 531 \nL 3481 0 \nL 794 0 \nL 794 531 \nz\n\" transform=\"scale(0.015625)\"/>\n       </defs>\n       <use xlink:href=\"#DejaVuSans-31\"/>\n       <use xlink:href=\"#DejaVuSans-30\" x=\"63.623047\"/>\n      </g>\n     </g>\n    </g>\n    <g id=\"xtick_4\">\n     <g id=\"line2d_4\">\n      <g>\n       <use xlink:href=\"#m9aefa5ee4b\" x=\"174.237\" y=\"273.312\" style=\"stroke: #000000; stroke-width: 0.8\"/>\n      </g>\n     </g>\n     <g id=\"text_4\">\n      <!-- 15 -->\n      <g transform=\"translate(167.8745 287.910437) scale(0.1 -0.1)\">\n       <use xlink:href=\"#DejaVuSans-31\"/>\n       <use xlink:href=\"#DejaVuSans-35\" x=\"63.623047\"/>\n      </g>\n     </g>\n    </g>\n    <g id=\"xtick_5\">\n     <g id=\"line2d_5\">\n      <g>\n       <use xlink:href=\"#m9aefa5ee4b\" x=\"221.757\" y=\"273.312\" style=\"stroke: #000000; stroke-width: 0.8\"/>\n      </g>\n     </g>\n     <g id=\"text_5\">\n      <!-- 20 -->\n      <g transform=\"translate(215.3945 287.910437) scale(0.1 -0.1)\">\n       <defs>\n        <path id=\"DejaVuSans-32\" d=\"M 1228 531 \nL 3431 531 \nL 3431 0 \nL 469 0 \nL 469 531 \nQ 828 903 1448 1529 \nQ 2069 2156 2228 2338 \nQ 2531 2678 2651 2914 \nQ 2772 3150 2772 3378 \nQ 2772 3750 2511 3984 \nQ 2250 4219 1831 4219 \nQ 1534 4219 1204 4116 \nQ 875 4013 500 3803 \nL 500 4441 \nQ 881 4594 1212 4672 \nQ 1544 4750 1819 4750 \nQ 2544 4750 2975 4387 \nQ 3406 4025 3406 3419 \nQ 3406 3131 3298 2873 \nQ 3191 2616 2906 2266 \nQ 2828 2175 2409 1742 \nQ 1991 1309 1228 531 \nz\n\" transform=\"scale(0.015625)\"/>\n       </defs>\n       <use xlink:href=\"#DejaVuSans-32\"/>\n       <use xlink:href=\"#DejaVuSans-30\" x=\"63.623047\"/>\n      </g>\n     </g>\n    </g>\n    <g id=\"xtick_6\">\n     <g id=\"line2d_6\">\n      <g>\n       <use xlink:href=\"#m9aefa5ee4b\" x=\"269.277\" y=\"273.312\" style=\"stroke: #000000; stroke-width: 0.8\"/>\n      </g>\n     </g>\n     <g id=\"text_6\">\n      <!-- 25 -->\n      <g transform=\"translate(262.9145 287.910437) scale(0.1 -0.1)\">\n       <use xlink:href=\"#DejaVuSans-32\"/>\n       <use xlink:href=\"#DejaVuSans-35\" x=\"63.623047\"/>\n      </g>\n     </g>\n    </g>\n   </g>\n   <g id=\"matplotlib.axis_2\">\n    <g id=\"ytick_1\">\n     <g id=\"line2d_7\">\n      <defs>\n       <path id=\"me8f602dc38\" d=\"M 0 0 \nL -3.5 0 \n\" style=\"stroke: #000000; stroke-width: 0.8\"/>\n      </defs>\n      <g>\n       <use xlink:href=\"#me8f602dc38\" x=\"26.925\" y=\"11.952\" style=\"stroke: #000000; stroke-width: 0.8\"/>\n      </g>\n     </g>\n     <g id=\"text_7\">\n      <!-- 0 -->\n      <g transform=\"translate(13.5625 15.751219) scale(0.1 -0.1)\">\n       <use xlink:href=\"#DejaVuSans-30\"/>\n      </g>\n     </g>\n    </g>\n    <g id=\"ytick_2\">\n     <g id=\"line2d_8\">\n      <g>\n       <use xlink:href=\"#me8f602dc38\" x=\"26.925\" y=\"59.472\" style=\"stroke: #000000; stroke-width: 0.8\"/>\n      </g>\n     </g>\n     <g id=\"text_8\">\n      <!-- 5 -->\n      <g transform=\"translate(13.5625 63.271219) scale(0.1 -0.1)\">\n       <use xlink:href=\"#DejaVuSans-35\"/>\n      </g>\n     </g>\n    </g>\n    <g id=\"ytick_3\">\n     <g id=\"line2d_9\">\n      <g>\n       <use xlink:href=\"#me8f602dc38\" x=\"26.925\" y=\"106.992\" style=\"stroke: #000000; stroke-width: 0.8\"/>\n      </g>\n     </g>\n     <g id=\"text_9\">\n      <!-- 10 -->\n      <g transform=\"translate(7.2 110.791219) scale(0.1 -0.1)\">\n       <use xlink:href=\"#DejaVuSans-31\"/>\n       <use xlink:href=\"#DejaVuSans-30\" x=\"63.623047\"/>\n      </g>\n     </g>\n    </g>\n    <g id=\"ytick_4\">\n     <g id=\"line2d_10\">\n      <g>\n       <use xlink:href=\"#me8f602dc38\" x=\"26.925\" y=\"154.512\" style=\"stroke: #000000; stroke-width: 0.8\"/>\n      </g>\n     </g>\n     <g id=\"text_10\">\n      <!-- 15 -->\n      <g transform=\"translate(7.2 158.311219) scale(0.1 -0.1)\">\n       <use xlink:href=\"#DejaVuSans-31\"/>\n       <use xlink:href=\"#DejaVuSans-35\" x=\"63.623047\"/>\n      </g>\n     </g>\n    </g>\n    <g id=\"ytick_5\">\n     <g id=\"line2d_11\">\n      <g>\n       <use xlink:href=\"#me8f602dc38\" x=\"26.925\" y=\"202.032\" style=\"stroke: #000000; stroke-width: 0.8\"/>\n      </g>\n     </g>\n     <g id=\"text_11\">\n      <!-- 20 -->\n      <g transform=\"translate(7.2 205.831219) scale(0.1 -0.1)\">\n       <use xlink:href=\"#DejaVuSans-32\"/>\n       <use xlink:href=\"#DejaVuSans-30\" x=\"63.623047\"/>\n      </g>\n     </g>\n    </g>\n    <g id=\"ytick_6\">\n     <g id=\"line2d_12\">\n      <g>\n       <use xlink:href=\"#me8f602dc38\" x=\"26.925\" y=\"249.552\" style=\"stroke: #000000; stroke-width: 0.8\"/>\n      </g>\n     </g>\n     <g id=\"text_12\">\n      <!-- 25 -->\n      <g transform=\"translate(7.2 253.351219) scale(0.1 -0.1)\">\n       <use xlink:href=\"#DejaVuSans-32\"/>\n       <use xlink:href=\"#DejaVuSans-35\" x=\"63.623047\"/>\n      </g>\n     </g>\n    </g>\n   </g>\n   <g id=\"patch_3\">\n    <path d=\"M 26.925 273.312 \nL 26.925 7.2 \n\" style=\"fill: none; stroke: #000000; stroke-width: 0.8; stroke-linejoin: miter; stroke-linecap: square\"/>\n   </g>\n   <g id=\"patch_4\">\n    <path d=\"M 293.037 273.312 \nL 293.037 7.2 \n\" style=\"fill: none; stroke: #000000; stroke-width: 0.8; stroke-linejoin: miter; stroke-linecap: square\"/>\n   </g>\n   <g id=\"patch_5\">\n    <path d=\"M 26.925 273.312 \nL 293.037 273.312 \n\" style=\"fill: none; stroke: #000000; stroke-width: 0.8; stroke-linejoin: miter; stroke-linecap: square\"/>\n   </g>\n   <g id=\"patch_6\">\n    <path d=\"M 26.925 7.2 \nL 293.037 7.2 \n\" style=\"fill: none; stroke: #000000; stroke-width: 0.8; stroke-linejoin: miter; stroke-linecap: square\"/>\n   </g>\n  </g>\n </g>\n <defs>\n  <clipPath id=\"pc07fc02930\">\n   <rect x=\"26.925\" y=\"7.2\" width=\"266.112\" height=\"266.112\"/>\n  </clipPath>\n </defs>\n</svg>\n",
      "image/png": "[encoded data removed]"
     },
     "metadata": {}
    },
    {
     "output_type": "execute_result",
     "data": {
      "text/plain": [
       "(9, 'Ankle boot')"
      ]
     },
     "metadata": {},
     "execution_count": 6
    }
   ],
   "metadata": {}
  },
  {
   "cell_type": "markdown",
   "source": [
    "### Working with pandas and numpy"
   ],
   "metadata": {}
  },
  {
   "cell_type": "code",
   "execution_count": 7,
   "source": [
    "df = pd.read_csv(f'./{base_data_path}/fashion-mnist_train.csv')\n",
    "df"
   ],
   "outputs": [
    {
     "output_type": "execute_result",
     "data": {
      "text/plain": [
       "       label  pixel1  pixel2  pixel3  pixel4  pixel5  pixel6  pixel7  pixel8  \\\n",
       "0          2       0       0       0       0       0       0       0       0   \n",
       "1          9       0       0       0       0       0       0       0       0   \n",
       "2          6       0       0       0       0       0       0       0       5   \n",
       "3          0       0       0       0       1       2       0       0       0   \n",
       "4          3       0       0       0       0       0       0       0       0   \n",
       "...      ...     ...     ...     ...     ...     ...     ...     ...     ...   \n",
       "59995      9       0       0       0       0       0       0       0       0   \n",
       "59996      1       0       0       0       0       0       0       0       0   \n",
       "59997      8       0       0       0       0       0       0       0       0   \n",
       "59998      8       0       0       0       0       0       0       0       0   \n",
       "59999      7       0       0       0       0       0       0       0       0   \n",
       "\n",
       "       pixel9  ...  pixel775  pixel776  pixel777  pixel778  pixel779  \\\n",
       "0           0  ...         0         0         0         0         0   \n",
       "1           0  ...         0         0         0         0         0   \n",
       "2           0  ...         0         0         0        30        43   \n",
       "3           0  ...         3         0         0         0         0   \n",
       "4           0  ...         0         0         0         0         0   \n",
       "...       ...  ...       ...       ...       ...       ...       ...   \n",
       "59995       0  ...         0         0         0         0         0   \n",
       "59996       0  ...        73         0         0         0         0   \n",
       "59997       0  ...       160       162       163       135        94   \n",
       "59998       0  ...         0         0         0         0         0   \n",
       "59999       0  ...         0         0         0         0         0   \n",
       "\n",
       "       pixel780  pixel781  pixel782  pixel783  pixel784  \n",
       "0             0         0         0         0         0  \n",
       "1             0         0         0         0         0  \n",
       "2             0         0         0         0         0  \n",
       "3             1         0         0         0         0  \n",
       "4             0         0         0         0         0  \n",
       "...         ...       ...       ...       ...       ...  \n",
       "59995         0         0         0         0         0  \n",
       "59996         0         0         0         0         0  \n",
       "59997         0         0         0         0         0  \n",
       "59998         0         0         0         0         0  \n",
       "59999         0         0         0         0         0  \n",
       "\n",
       "[60000 rows x 785 columns]"
      ],
      "text/html": [
       "<div>\n",
       "<style scoped>\n",
       "    .dataframe tbody tr th:only-of-type {\n",
       "        vertical-align: middle;\n",
       "    }\n",
       "\n",
       "    .dataframe tbody tr th {\n",
       "        vertical-align: top;\n",
       "    }\n",
       "\n",
       "    .dataframe thead th {\n",
       "        text-align: right;\n",
       "    }\n",
       "</style>\n",
       "<table border=\"1\" class=\"dataframe\">\n",
       "  <thead>\n",
       "    <tr style=\"text-align: right;\">\n",
       "      <th></th>\n",
       "      <th>label</th>\n",
       "      <th>pixel1</th>\n",
       "      <th>pixel2</th>\n",
       "      <th>pixel3</th>\n",
       "      <th>pixel4</th>\n",
       "      <th>pixel5</th>\n",
       "      <th>pixel6</th>\n",
       "      <th>pixel7</th>\n",
       "      <th>pixel8</th>\n",
       "      <th>pixel9</th>\n",
       "      <th>...</th>\n",
       "      <th>pixel775</th>\n",
       "      <th>pixel776</th>\n",
       "      <th>pixel777</th>\n",
       "      <th>pixel778</th>\n",
       "      <th>pixel779</th>\n",
       "      <th>pixel780</th>\n",
       "      <th>pixel781</th>\n",
       "      <th>pixel782</th>\n",
       "      <th>pixel783</th>\n",
       "      <th>pixel784</th>\n",
       "    </tr>\n",
       "  </thead>\n",
       "  <tbody>\n",
       "    <tr>\n",
       "      <th>0</th>\n",
       "      <td>2</td>\n",
       "      <td>0</td>\n",
       "      <td>0</td>\n",
       "      <td>0</td>\n",
       "      <td>0</td>\n",
       "      <td>0</td>\n",
       "      <td>0</td>\n",
       "      <td>0</td>\n",
       "      <td>0</td>\n",
       "      <td>0</td>\n",
       "      <td>...</td>\n",
       "      <td>0</td>\n",
       "      <td>0</td>\n",
       "      <td>0</td>\n",
       "      <td>0</td>\n",
       "      <td>0</td>\n",
       "      <td>0</td>\n",
       "      <td>0</td>\n",
       "      <td>0</td>\n",
       "      <td>0</td>\n",
       "      <td>0</td>\n",
       "    </tr>\n",
       "    <tr>\n",
       "      <th>1</th>\n",
       "      <td>9</td>\n",
       "      <td>0</td>\n",
       "      <td>0</td>\n",
       "      <td>0</td>\n",
       "      <td>0</td>\n",
       "      <td>0</td>\n",
       "      <td>0</td>\n",
       "      <td>0</td>\n",
       "      <td>0</td>\n",
       "      <td>0</td>\n",
       "      <td>...</td>\n",
       "      <td>0</td>\n",
       "      <td>0</td>\n",
       "      <td>0</td>\n",
       "      <td>0</td>\n",
       "      <td>0</td>\n",
       "      <td>0</td>\n",
       "      <td>0</td>\n",
       "      <td>0</td>\n",
       "      <td>0</td>\n",
       "      <td>0</td>\n",
       "    </tr>\n",
       "    <tr>\n",
       "      <th>2</th>\n",
       "      <td>6</td>\n",
       "      <td>0</td>\n",
       "      <td>0</td>\n",
       "      <td>0</td>\n",
       "      <td>0</td>\n",
       "      <td>0</td>\n",
       "      <td>0</td>\n",
       "      <td>0</td>\n",
       "      <td>5</td>\n",
       "      <td>0</td>\n",
       "      <td>...</td>\n",
       "      <td>0</td>\n",
       "      <td>0</td>\n",
       "      <td>0</td>\n",
       "      <td>30</td>\n",
       "      <td>43</td>\n",
       "      <td>0</td>\n",
       "      <td>0</td>\n",
       "      <td>0</td>\n",
       "      <td>0</td>\n",
       "      <td>0</td>\n",
       "    </tr>\n",
       "    <tr>\n",
       "      <th>3</th>\n",
       "      <td>0</td>\n",
       "      <td>0</td>\n",
       "      <td>0</td>\n",
       "      <td>0</td>\n",
       "      <td>1</td>\n",
       "      <td>2</td>\n",
       "      <td>0</td>\n",
       "      <td>0</td>\n",
       "      <td>0</td>\n",
       "      <td>0</td>\n",
       "      <td>...</td>\n",
       "      <td>3</td>\n",
       "      <td>0</td>\n",
       "      <td>0</td>\n",
       "      <td>0</td>\n",
       "      <td>0</td>\n",
       "      <td>1</td>\n",
       "      <td>0</td>\n",
       "      <td>0</td>\n",
       "      <td>0</td>\n",
       "      <td>0</td>\n",
       "    </tr>\n",
       "    <tr>\n",
       "      <th>4</th>\n",
       "      <td>3</td>\n",
       "      <td>0</td>\n",
       "      <td>0</td>\n",
       "      <td>0</td>\n",
       "      <td>0</td>\n",
       "      <td>0</td>\n",
       "      <td>0</td>\n",
       "      <td>0</td>\n",
       "      <td>0</td>\n",
       "      <td>0</td>\n",
       "      <td>...</td>\n",
       "      <td>0</td>\n",
       "      <td>0</td>\n",
       "      <td>0</td>\n",
       "      <td>0</td>\n",
       "      <td>0</td>\n",
       "      <td>0</td>\n",
       "      <td>0</td>\n",
       "      <td>0</td>\n",
       "      <td>0</td>\n",
       "      <td>0</td>\n",
       "    </tr>\n",
       "    <tr>\n",
       "      <th>...</th>\n",
       "      <td>...</td>\n",
       "      <td>...</td>\n",
       "      <td>...</td>\n",
       "      <td>...</td>\n",
       "      <td>...</td>\n",
       "      <td>...</td>\n",
       "      <td>...</td>\n",
       "      <td>...</td>\n",
       "      <td>...</td>\n",
       "      <td>...</td>\n",
       "      <td>...</td>\n",
       "      <td>...</td>\n",
       "      <td>...</td>\n",
       "      <td>...</td>\n",
       "      <td>...</td>\n",
       "      <td>...</td>\n",
       "      <td>...</td>\n",
       "      <td>...</td>\n",
       "      <td>...</td>\n",
       "      <td>...</td>\n",
       "      <td>...</td>\n",
       "    </tr>\n",
       "    <tr>\n",
       "      <th>59995</th>\n",
       "      <td>9</td>\n",
       "      <td>0</td>\n",
       "      <td>0</td>\n",
       "      <td>0</td>\n",
       "      <td>0</td>\n",
       "      <td>0</td>\n",
       "      <td>0</td>\n",
       "      <td>0</td>\n",
       "      <td>0</td>\n",
       "      <td>0</td>\n",
       "      <td>...</td>\n",
       "      <td>0</td>\n",
       "      <td>0</td>\n",
       "      <td>0</td>\n",
       "      <td>0</td>\n",
       "      <td>0</td>\n",
       "      <td>0</td>\n",
       "      <td>0</td>\n",
       "      <td>0</td>\n",
       "      <td>0</td>\n",
       "      <td>0</td>\n",
       "    </tr>\n",
       "    <tr>\n",
       "      <th>59996</th>\n",
       "      <td>1</td>\n",
       "      <td>0</td>\n",
       "      <td>0</td>\n",
       "      <td>0</td>\n",
       "      <td>0</td>\n",
       "      <td>0</td>\n",
       "      <td>0</td>\n",
       "      <td>0</td>\n",
       "      <td>0</td>\n",
       "      <td>0</td>\n",
       "      <td>...</td>\n",
       "      <td>73</td>\n",
       "      <td>0</td>\n",
       "      <td>0</td>\n",
       "      <td>0</td>\n",
       "      <td>0</td>\n",
       "      <td>0</td>\n",
       "      <td>0</td>\n",
       "      <td>0</td>\n",
       "      <td>0</td>\n",
       "      <td>0</td>\n",
       "    </tr>\n",
       "    <tr>\n",
       "      <th>59997</th>\n",
       "      <td>8</td>\n",
       "      <td>0</td>\n",
       "      <td>0</td>\n",
       "      <td>0</td>\n",
       "      <td>0</td>\n",
       "      <td>0</td>\n",
       "      <td>0</td>\n",
       "      <td>0</td>\n",
       "      <td>0</td>\n",
       "      <td>0</td>\n",
       "      <td>...</td>\n",
       "      <td>160</td>\n",
       "      <td>162</td>\n",
       "      <td>163</td>\n",
       "      <td>135</td>\n",
       "      <td>94</td>\n",
       "      <td>0</td>\n",
       "      <td>0</td>\n",
       "      <td>0</td>\n",
       "      <td>0</td>\n",
       "      <td>0</td>\n",
       "    </tr>\n",
       "    <tr>\n",
       "      <th>59998</th>\n",
       "      <td>8</td>\n",
       "      <td>0</td>\n",
       "      <td>0</td>\n",
       "      <td>0</td>\n",
       "      <td>0</td>\n",
       "      <td>0</td>\n",
       "      <td>0</td>\n",
       "      <td>0</td>\n",
       "      <td>0</td>\n",
       "      <td>0</td>\n",
       "      <td>...</td>\n",
       "      <td>0</td>\n",
       "      <td>0</td>\n",
       "      <td>0</td>\n",
       "      <td>0</td>\n",
       "      <td>0</td>\n",
       "      <td>0</td>\n",
       "      <td>0</td>\n",
       "      <td>0</td>\n",
       "      <td>0</td>\n",
       "      <td>0</td>\n",
       "    </tr>\n",
       "    <tr>\n",
       "      <th>59999</th>\n",
       "      <td>7</td>\n",
       "      <td>0</td>\n",
       "      <td>0</td>\n",
       "      <td>0</td>\n",
       "      <td>0</td>\n",
       "      <td>0</td>\n",
       "      <td>0</td>\n",
       "      <td>0</td>\n",
       "      <td>0</td>\n",
       "      <td>0</td>\n",
       "      <td>...</td>\n",
       "      <td>0</td>\n",
       "      <td>0</td>\n",
       "      <td>0</td>\n",
       "      <td>0</td>\n",
       "      <td>0</td>\n",
       "      <td>0</td>\n",
       "      <td>0</td>\n",
       "      <td>0</td>\n",
       "      <td>0</td>\n",
       "      <td>0</td>\n",
       "    </tr>\n",
       "  </tbody>\n",
       "</table>\n",
       "<p>60000 rows × 785 columns</p>\n",
       "</div>"
      ]
     },
     "metadata": {},
     "execution_count": 7
    }
   ],
   "metadata": {}
  },
  {
   "cell_type": "code",
   "execution_count": 8,
   "source": [
    "data = np.array(df)\n",
    "m, n = data.shape\n",
    "np.random.shuffle(data)\n",
    "\n",
    "data_test = data[0:1000].T\n",
    "X_test = data_test[1:n]\n",
    "Y_test = data_test[0]\n",
    "\n",
    "data_train = data[1000:m].T\n",
    "X_train = data_train[1:n]\n",
    "Y_train = data_train[0]\n",
    "\n",
    "# Normalization\n",
    "X_test = X_test / 255\n",
    "X_train = X_train / 255\n"
   ],
   "outputs": [],
   "metadata": {}
  },
  {
   "cell_type": "code",
   "execution_count": 9,
   "source": [
    "X_train.shape, Y_train.shape"
   ],
   "outputs": [
    {
     "output_type": "execute_result",
     "data": {
      "text/plain": [
       "((784, 59000), (59000,))"
      ]
     },
     "metadata": {},
     "execution_count": 9
    }
   ],
   "metadata": {}
  },
  {
   "cell_type": "markdown",
   "source": [
    "### Building the Neural Network"
   ],
   "metadata": {}
  },
  {
   "cell_type": "code",
   "execution_count": 10,
   "source": [
    "def initialize_params(batch_size=16):\n",
    "    params = {}\n",
    "    n_neurons_l2 = 25\n",
    "    params['W1'] = np.random.randn(batch_size, 784)\n",
    "    params['b1'] = np.zeros(shape=(batch_size, 1))\n",
    "\n",
    "    params['W2'] = np.random.randn(n_neurons_l2, batch_size)\n",
    "    params['b2'] = np.zeros(shape=(n_neurons_l2, 1))\n",
    "\n",
    "    params['W3'] = np.random.randn(10, n_neurons_l2)\n",
    "    params['b3'] = np.zeros(shape=(10,1))\n",
    "    \n",
    "    return params\n",
    "\n",
    "def relu(x):\n",
    "    return np.maximum(x, 0)\n",
    "\n",
    "def softmax(x):\n",
    "    probs = np.exp(x) / sum(np.exp(x))\n",
    "    return probs\n",
    "\n",
    "def cross_entropy(y_hat, y_one_hot):\n",
    "    # y_one_hot es un vector con las probabilidades reales (etiquetas verdaderas)\n",
    "    # y_hat es un vector con las probabilidades predichas por el modelo\n",
    "    epsilon = 1e-15  # Valor pequeño para evitar divisiones por cero\n",
    "    y_hat = np.maximum(epsilon, y_hat)  # Asegurarse de que no haya valores cercanos a cero\n",
    "    return - np.sum(y_one_hot * np.log(y_hat))\n",
    "\n",
    "def relu_prime(z):\n",
    "    z[ z <= 0] = 0\n",
    "    return z\n",
    "\n",
    "def one_hot(y, k=10):\n",
    "    one_hot_y = np.zeros(shape=(y.size, k))\n",
    "    classes = np.arange(y.size)\n",
    "    one_hot_y[classes, y] = 1\n",
    "    # return the same format as 784 x batch_size\n",
    "    return one_hot_y.T\n",
    "\n",
    "def forward_propagation(X, params):\n",
    "    params['Z1'] = np.dot(params['W1'], X) + params['b1']\n",
    "    params['A1'] = relu(params['Z1'])\n",
    "\n",
    "    params['Z2'] = np.dot(params['W2'], params['A1']) + params['b2']\n",
    "    params['A2'] = relu(params['Z2'])\n",
    "    \n",
    "    params['Z3'] = np.dot(params['W3'], params['A2']) + params['b3']\n",
    "    params['A3'] = softmax(params['Z3'])\n",
    "\n",
    "    return params\n",
    "\n",
    "def backward_propagation(X, Y, params):\n",
    "    y_one_hot = one_hot(Y)\n",
    "    loss = cross_entropy(params['A3'], y_one_hot) # y_hat - y\n",
    "\n",
    "    params['dZ3'] = params['A3'] - y_one_hot\n",
    "    params['dW3'] = np.dot(params['dZ3'] , params['A2'].T)\n",
    "    params['db3'] = params['dZ3']\n",
    "\n",
    "    params['dA2'] = np.dot(params['dZ3'].T, params['W3'])\n",
    "    params['dZ2'] = np.dot(params['dA2'], relu_prime(params['Z2']))\n",
    "    params['dW2'] = np.dot(params['dZ2'], params['A1'].T) #\n",
    "    params['db2'] = params['dZ2']\n",
    "\n",
    "    params['dA1'] = np.dot(params['dZ2'], params['W2'].T)\n",
    "    params['dZ1'] = np.dot(params['dA1'].T , relu_prime(params['Z1']) )\n",
    "    params['dW1'] = np.dot( params['db2'], X.T)\n",
    "    params['db1'] = params['dZ1']\n",
    "\n",
    "    return loss, params\n",
    "\n",
    "def update_params(lr, params):\n",
    "    params['W1'] = params['W1'] - lr * params['dW1']\n",
    "    params['b1'] = params['b1'] - lr * params['db1']\n",
    "    params['W2'] = params['W2'] - lr * params['dW2']\n",
    "    params['b2'] = params['b2'] - lr * params['db2']\n",
    "    params['W3'] = params['W3'] - lr * params['dW3']\n",
    "    params['b3'] = params['b3'] - lr * params['db3']\n",
    "    return params\n",
    "\n",
    "def get_batches(total_samples, batch_size=16):\n",
    "    batches = []\n",
    "    for split in range(0, total_samples, batch_size):\n",
    "        if split + batch_size > total_samples: break\n",
    "        start_index = split\n",
    "        end_index = split + batch_size #if (split + batch_size <= total_samples)  else  total_samples\n",
    "        batches.append((start_index, end_index))\n",
    "    return batches\n",
    "\n",
    "def get_accuracy(y_hat, y):\n",
    "    predictions = np.argmax(y_hat, 0)\n",
    "    return np.sum(predictions == y) / y.size\n",
    "\n",
    "get_batches(100)\n",
    "\n",
    "#A = [[-1, 0.5, -0.23], [0.67, -2.8, 2.12]]\n",
    "#print(relu(A))\n",
    "#print(softmax(A))"
   ],
   "outputs": [
    {
     "output_type": "execute_result",
     "data": {
      "text/plain": [
       "[(0, 16), (16, 32), (32, 48), (48, 64), (64, 80), (80, 96)]"
      ]
     },
     "metadata": {},
     "execution_count": 10
    }
   ],
   "metadata": {}
  },
  {
   "cell_type": "markdown",
   "source": [
    "Creating a Neural Network with:\n",
    "- 3 layers: 1 input, 1 hidden, 1 output\n",
    "- hidden layer"
   ],
   "metadata": {}
  },
  {
   "cell_type": "code",
   "execution_count": 11,
   "source": [
    "X_train[:, 32:64].shape"
   ],
   "outputs": [
    {
     "output_type": "execute_result",
     "data": {
      "text/plain": [
       "(784, 32)"
      ]
     },
     "metadata": {},
     "execution_count": 11
    }
   ],
   "metadata": {}
  },
  {
   "cell_type": "code",
   "execution_count": 12,
   "source": [
    "batch_size = 32\n",
    "epochs = 3\n",
    "learning_rate = 0.01\n",
    "\n",
    "def train():\n",
    "\n",
    "    X = X_train\n",
    "    Y = Y_train\n",
    "\n",
    "    params = initialize_params() # len(Y_train)\n",
    "\n",
    "    for epoch in range(epochs):\n",
    "        \n",
    "        print('forward_propagation ...')\n",
    "        params = forward_propagation(X, params)\n",
    "        print('backward_propagation ...')\n",
    "        loss, params = backward_propagation(X, Y, params)\n",
    "        print('update_params ...')\n",
    "        params = update_params(learning_rate, params)\n",
    "        \n",
    "        #if epoch % 10 == 0:\n",
    "        acc = get_accuracy(params['A3'], Y)\n",
    "        print(f\"Epoc: {epoch + 1}, loss: {round(loss,4)}, acc: {acc}\")\n",
    "        \n",
    "\n",
    "    return params\n",
    "    \n",
    "params = train()"
   ],
   "outputs": [
    {
     "output_type": "stream",
     "name": "stdout",
     "text": [
      "forward_propagation ...\n",
      "backward_propagation ...\n"
     ]
    },
    {
     "output_type": "error",
     "ename": "ValueError",
     "evalue": "shapes (59000,59000) and (16,25) not aligned: 59000 (dim 1) != 16 (dim 0)",
     "traceback": [
      "\u001b[0;31m---------------------------------------------------------------------------\u001b[0m",
      "\u001b[0;31mValueError\u001b[0m                                Traceback (most recent call last)",
      "Cell \u001b[0;32mIn[12], line 28\u001b[0m\n\u001b[1;32m     23\u001b[0m         \u001b[38;5;28mprint\u001b[39m(\u001b[38;5;124mf\u001b[39m\u001b[38;5;124m\"\u001b[39m\u001b[38;5;124mEpoc: \u001b[39m\u001b[38;5;132;01m{\u001b[39;00mepoch\u001b[38;5;250m \u001b[39m\u001b[38;5;241m+\u001b[39m\u001b[38;5;250m \u001b[39m\u001b[38;5;241m1\u001b[39m\u001b[38;5;132;01m}\u001b[39;00m\u001b[38;5;124m, loss: \u001b[39m\u001b[38;5;132;01m{\u001b[39;00m\u001b[38;5;28mround\u001b[39m(loss,\u001b[38;5;241m4\u001b[39m)\u001b[38;5;132;01m}\u001b[39;00m\u001b[38;5;124m, acc: \u001b[39m\u001b[38;5;132;01m{\u001b[39;00macc\u001b[38;5;132;01m}\u001b[39;00m\u001b[38;5;124m\"\u001b[39m)\n\u001b[1;32m     26\u001b[0m     \u001b[38;5;28;01mreturn\u001b[39;00m params\n\u001b[0;32m---> 28\u001b[0m params \u001b[38;5;241m=\u001b[39m \u001b[43mtrain\u001b[49m\u001b[43m(\u001b[49m\u001b[43m)\u001b[49m\n",
      "Cell \u001b[0;32mIn[12], line 17\u001b[0m, in \u001b[0;36mtrain\u001b[0;34m()\u001b[0m\n\u001b[1;32m     15\u001b[0m params \u001b[38;5;241m=\u001b[39m forward_propagation(X, params)\n\u001b[1;32m     16\u001b[0m \u001b[38;5;28mprint\u001b[39m(\u001b[38;5;124m'\u001b[39m\u001b[38;5;124mbackward_propagation ...\u001b[39m\u001b[38;5;124m'\u001b[39m)\n\u001b[0;32m---> 17\u001b[0m loss, params \u001b[38;5;241m=\u001b[39m \u001b[43mbackward_propagation\u001b[49m\u001b[43m(\u001b[49m\u001b[43mX\u001b[49m\u001b[43m,\u001b[49m\u001b[43m \u001b[49m\u001b[43mY\u001b[49m\u001b[43m,\u001b[49m\u001b[43m \u001b[49m\u001b[43mparams\u001b[49m\u001b[43m)\u001b[49m\n\u001b[1;32m     18\u001b[0m \u001b[38;5;28mprint\u001b[39m(\u001b[38;5;124m'\u001b[39m\u001b[38;5;124mupdate_params ...\u001b[39m\u001b[38;5;124m'\u001b[39m)\n\u001b[1;32m     19\u001b[0m params \u001b[38;5;241m=\u001b[39m update_params(learning_rate, params)\n",
      "Cell \u001b[0;32mIn[10], line 65\u001b[0m, in \u001b[0;36mbackward_propagation\u001b[0;34m(X, Y, params)\u001b[0m\n\u001b[1;32m     62\u001b[0m params[\u001b[38;5;124m'\u001b[39m\u001b[38;5;124mdW2\u001b[39m\u001b[38;5;124m'\u001b[39m] \u001b[38;5;241m=\u001b[39m np\u001b[38;5;241m.\u001b[39mdot(params[\u001b[38;5;124m'\u001b[39m\u001b[38;5;124mdZ2\u001b[39m\u001b[38;5;124m'\u001b[39m], params[\u001b[38;5;124m'\u001b[39m\u001b[38;5;124mA1\u001b[39m\u001b[38;5;124m'\u001b[39m]\u001b[38;5;241m.\u001b[39mT) \u001b[38;5;66;03m#\u001b[39;00m\n\u001b[1;32m     63\u001b[0m params[\u001b[38;5;124m'\u001b[39m\u001b[38;5;124mdb2\u001b[39m\u001b[38;5;124m'\u001b[39m] \u001b[38;5;241m=\u001b[39m params[\u001b[38;5;124m'\u001b[39m\u001b[38;5;124mdZ2\u001b[39m\u001b[38;5;124m'\u001b[39m]\n\u001b[0;32m---> 65\u001b[0m params[\u001b[38;5;124m'\u001b[39m\u001b[38;5;124mdA1\u001b[39m\u001b[38;5;124m'\u001b[39m] \u001b[38;5;241m=\u001b[39m \u001b[43mnp\u001b[49m\u001b[38;5;241;43m.\u001b[39;49m\u001b[43mdot\u001b[49m\u001b[43m(\u001b[49m\u001b[43mparams\u001b[49m\u001b[43m[\u001b[49m\u001b[38;5;124;43m'\u001b[39;49m\u001b[38;5;124;43mdZ2\u001b[39;49m\u001b[38;5;124;43m'\u001b[39;49m\u001b[43m]\u001b[49m\u001b[43m,\u001b[49m\u001b[43m \u001b[49m\u001b[43mparams\u001b[49m\u001b[43m[\u001b[49m\u001b[38;5;124;43m'\u001b[39;49m\u001b[38;5;124;43mW2\u001b[39;49m\u001b[38;5;124;43m'\u001b[39;49m\u001b[43m]\u001b[49m\u001b[38;5;241;43m.\u001b[39;49m\u001b[43mT\u001b[49m\u001b[43m)\u001b[49m\n\u001b[1;32m     66\u001b[0m params[\u001b[38;5;124m'\u001b[39m\u001b[38;5;124mdZ1\u001b[39m\u001b[38;5;124m'\u001b[39m] \u001b[38;5;241m=\u001b[39m np\u001b[38;5;241m.\u001b[39mdot(params[\u001b[38;5;124m'\u001b[39m\u001b[38;5;124mdA1\u001b[39m\u001b[38;5;124m'\u001b[39m]\u001b[38;5;241m.\u001b[39mT , relu_prime(params[\u001b[38;5;124m'\u001b[39m\u001b[38;5;124mZ1\u001b[39m\u001b[38;5;124m'\u001b[39m]) )\n\u001b[1;32m     67\u001b[0m params[\u001b[38;5;124m'\u001b[39m\u001b[38;5;124mdW1\u001b[39m\u001b[38;5;124m'\u001b[39m] \u001b[38;5;241m=\u001b[39m np\u001b[38;5;241m.\u001b[39mdot( params[\u001b[38;5;124m'\u001b[39m\u001b[38;5;124mdb2\u001b[39m\u001b[38;5;124m'\u001b[39m], X\u001b[38;5;241m.\u001b[39mT)\n",
      "\u001b[0;31mValueError\u001b[0m: shapes (59000,59000) and (16,25) not aligned: 59000 (dim 1) != 16 (dim 0)"
     ]
    }
   ],
   "metadata": {}
  },
  {
   "cell_type": "markdown",
   "source": [
    "batch_size = 32\n",
    "epochs = 5\n",
    "learning_rate = 0.01\n",
    "\n",
    "def train():\n",
    "    params = initialize_params(batch_size)\n",
    "\n",
    "    total_samples = len(Y_train)\n",
    "    batches = get_batches(total_samples, batch_size)\n",
    "    \n",
    "    for epoch in range(epochs):\n",
    "        i = 0\n",
    "        for start_index, end_index in batches:\n",
    "            X = X_train[:, start_index:end_index]\n",
    "            Y = Y_train[start_index:end_index]\n",
    "\n",
    "            params = forward_propagation(X, params)\n",
    "\n",
    "            loss, params = backward_propagation(X, Y, params)\n",
    "\n",
    "            params = update_params(learning_rate, params)\n",
    "            \n",
    "            if i % 100 == 0:\n",
    "                acc = get_accuracy(params['A3'], Y)\n",
    "                print(f\"Epoc: {epoch + 1}, batch:  {i}/{len(batches)}, loss: {round(loss,4)}, acc: {acc}\")\n",
    "            \n",
    "            i += 1\n",
    "\n",
    "    return params\n",
    "    \n",
    "params = train()"
   ],
   "metadata": {}
  },
  {
   "cell_type": "code",
   "execution_count": null,
   "source": [
    "Y[:16]"
   ],
   "outputs": [
    {
     "output_type": "execute_result",
     "data": {
      "text/plain": [
       "array([6, 0, 3, 4, 3, 0, 0, 4, 1, 3, 2, 6, 8, 2, 2, 3])"
      ]
     },
     "metadata": {},
     "execution_count": 700
    }
   ],
   "metadata": {}
  },
  {
   "cell_type": "markdown",
   "source": [
    "## Inferences"
   ],
   "metadata": {}
  },
  {
   "cell_type": "code",
   "execution_count": null,
   "source": [
    "#params['A3']\n",
    "params.keys()"
   ],
   "outputs": [
    {
     "output_type": "error",
     "ename": "Error",
     "evalue": "Session cannot generate requests",
     "traceback": [
      "Error: Session cannot generate requests",
      "at w.executeCodeCell (/Users/giancarlopoemape/.vscode/extensions/ms-toolsai.jupyter-2021.8.1236758218/out/client/extension.js:90:327199)",
      "at w.execute (/Users/giancarlopoemape/.vscode/extensions/ms-toolsai.jupyter-2021.8.1236758218/out/client/extension.js:90:326520)",
      "at w.start (/Users/giancarlopoemape/.vscode/extensions/ms-toolsai.jupyter-2021.8.1236758218/out/client/extension.js:90:322336)",
      "at runMicrotasks (<anonymous>)",
      "at processTicksAndRejections (internal/process/task_queues.js:93:5)",
      "at async t.CellExecutionQueue.executeQueuedCells (/Users/giancarlopoemape/.vscode/extensions/ms-toolsai.jupyter-2021.8.1236758218/out/client/extension.js:90:336863)",
      "at async t.CellExecutionQueue.start (/Users/giancarlopoemape/.vscode/extensions/ms-toolsai.jupyter-2021.8.1236758218/out/client/extension.js:90:336403)"
     ]
    }
   ],
   "metadata": {}
  },
  {
   "cell_type": "markdown",
   "source": [],
   "metadata": {}
  }
 ],
 "metadata": {
  "orig_nbformat": 4,
  "language_info": {
   "name": "python",
   "version": "3.10.13",
   "mimetype": "text/x-python",
   "codemirror_mode": {
    "name": "ipython",
    "version": 3
   },
   "pygments_lexer": "ipython3",
   "nbconvert_exporter": "python",
   "file_extension": ".py"
  },
  "kernelspec": {
   "name": "python3",
   "display_name": "Python 3.10.13 64-bit ('alg-venv': venv)"
  },
  "interpreter": {
   "hash": "32d73eb8366e1bd09017c2cd34fc4d617acb4fcfecfaff53f90c2b8750da6f2a"
  }
 },
 "nbformat": 4,
 "nbformat_minor": 2
}