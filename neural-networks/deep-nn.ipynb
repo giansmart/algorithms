{
 "cells": [
  {
   "cell_type": "markdown",
   "source": [
    "# My Deep Learning Framework"
   ],
   "metadata": {}
  },
  {
   "cell_type": "code",
   "execution_count": 176,
   "source": [
    "import random\n",
    "import matplotlib.pyplot as plt\n",
    "import numpy as np"
   ],
   "outputs": [],
   "metadata": {}
  },
  {
   "cell_type": "markdown",
   "source": [
    "Labels\n",
    "- 0 T-shirt/top\n",
    "- 1 Trouser\n",
    "- 2 Pullover\n",
    "- 3 Dress\n",
    "- 4 Coat\n",
    "- 5 Sandal\n",
    "- 6 Shirt\n",
    "- 7 Sneaker\n",
    "- 8 Bag\n",
    "- 9 Ankle boot"
   ],
   "metadata": {}
  },
  {
   "cell_type": "code",
   "execution_count": 92,
   "source": [
    "def get_article(id):\n",
    "    articles = {\n",
    "            0: \"T-shirt/top\", 1: \"Trouser\", 2: \"Pullover\", 3: \"Dress\", 4: \"Coat\", \n",
    "            5: \"Sandal\", 6: \"Shirt\", 7: \"Sneaker\", 8: \"Bag\", 9: \"Ankle boot\"}\n",
    "    return articles.get(id)"
   ],
   "outputs": [],
   "metadata": {}
  },
  {
   "cell_type": "markdown",
   "source": [
    "### Matrix Utilities"
   ],
   "metadata": {}
  },
  {
   "cell_type": "code",
   "execution_count": 175,
   "source": [
    "def random_matrix(n_rows, n_cols, n_decimals=4):\n",
    "    matrix = []\n",
    "    for _ in range(n_rows):\n",
    "        cols = []\n",
    "        for _ in range(n_cols):\n",
    "            number = round(random.random(),n_decimals)\n",
    "            cols.append(number)\n",
    "        matrix.append(cols)\n",
    "    return matrix\n",
    "    \n",
    "def create_matrix(n_rows, n_cols, value=0):\n",
    "    return [ [ value for _ in range(n_cols)] for _ in range(n_rows) ]\n",
    "\n",
    "def create_vector(n_size, value=0):\n",
    "    return [value for _ in range(n_size)]\n",
    "\n",
    "\n",
    "def reshape_vector(vector, n_rows):\n",
    "    matrix = []\n",
    "    n_cols = int(len(vector) / n_rows)\n",
    "    begin = 0\n",
    "    for _ in range(n_rows):\n",
    "        row = vector[begin : begin + n_cols]\n",
    "        matrix.append(row)\n",
    "        begin +=  n_cols\n",
    "    return matrix\n",
    "\n",
    "def multiply_matrix(matrix_A, matrix_B):\n",
    "    A_rows, A_cols = len(matrix_A), len(matrix_A[0])\n",
    "    B_rows, B_cols = len(matrix_B), len(matrix_B[0])\n",
    "\n",
    "    #if A_cols != B_rows: \n",
    "    #    raise ValueError(f\"Incompatible dimentions: A col: {A_cols} != {B_rows}\" )\n",
    "    \n",
    "    result_matrix = create_matrix(A_rows, B_cols)\n",
    "    \n",
    "    for i in range(A_rows):\n",
    "        for j in range(B_cols):\n",
    "            for k in range(B_rows):\n",
    "                result_matrix[i][j] += matrix_A[i][k] * matrix_B[k][j]\n",
    "\n",
    "    return result_matrix\n",
    "\n",
    "#print(random_matrix(2,2))\n",
    "#rint(create_vector(5))\n",
    "#print(create_matrix(5, 2))\n",
    "#print(reshape_vector([1,2,3,4,5,6], 3))\n",
    "A = [[1, 2, 3], \n",
    "    [4, 5, 6]]\n",
    "B = [[1, 2, 3, 4], \n",
    "    [5, 6, 7, 8], \n",
    "    [9, 10, 11, 12]]\n",
    "\n",
    "multiply_matrix(A, B)"
   ],
   "outputs": [
    {
     "output_type": "execute_result",
     "data": {
      "text/plain": [
       "[[38, 44, 50, 56], [83, 98, 113, 128]]"
      ]
     },
     "metadata": {},
     "execution_count": 175
    }
   ],
   "metadata": {}
  },
  {
   "cell_type": "markdown",
   "source": [
    "### Loading Fashion MNIST data"
   ],
   "metadata": {}
  },
  {
   "cell_type": "code",
   "execution_count": 118,
   "source": [
    "base_data_path = 'fashion-mnist-data'\n",
    "\n",
    "def load_data():\n",
    "    y_data = []\n",
    "    x_data = []\n",
    "\n",
    "    with open(f'./{base_data_path}/fashion-mnist_train.csv', \"r\") as file:\n",
    "        next(file)\n",
    "        for index, line in enumerate(file.readlines()):\n",
    "            y_data.append(int(line.split(\",\")[0]))\n",
    "            x_data.append([ int(pixel) for pixel in line.split(\",\")[1:] ])\n",
    "            if index >= 10: break\n",
    "    return x_data, y_data\n",
    "\n",
    "X,Y = load_data()"
   ],
   "outputs": [],
   "metadata": {}
  },
  {
   "cell_type": "code",
   "execution_count": 119,
   "source": [
    "Y[0], get_article(Y[0])"
   ],
   "outputs": [
    {
     "output_type": "execute_result",
     "data": {
      "text/plain": [
       "(2, 'Pullover')"
      ]
     },
     "metadata": {},
     "execution_count": 119
    }
   ],
   "metadata": {}
  },
  {
   "cell_type": "code",
   "execution_count": 120,
   "source": [
    "x_img = reshape_vector(X[0],28)\n",
    "plt.imshow(x_img)\n",
    "plt.show()"
   ],
   "outputs": [
    {
     "output_type": "display_data",
     "data": {
      "text/plain": [
       "<Figure size 640x480 with 1 Axes>"
      ],
      "image/svg+xml": "<?xml version=\"1.0\" encoding=\"utf-8\" standalone=\"no\"?>\n<!DOCTYPE svg PUBLIC \"-//W3C//DTD SVG 1.1//EN\"\n  \"http://www.w3.org/Graphics/SVG/1.1/DTD/svg11.dtd\">\n<svg xmlns:xlink=\"http://www.w3.org/1999/xlink\" width=\"300.237pt\" height=\"297.190125pt\" viewBox=\"0 0 300.237 297.190125\" xmlns=\"http://www.w3.org/2000/svg\" version=\"1.1\">\n <metadata>\n  <rdf:RDF xmlns:dc=\"http://purl.org/dc/elements/1.1/\" xmlns:cc=\"http://creativecommons.org/ns#\" xmlns:rdf=\"http://www.w3.org/1999/02/22-rdf-syntax-ns#\">\n   <cc:Work>\n    <dc:type rdf:resource=\"http://purl.org/dc/dcmitype/StillImage\"/>\n    <dc:date>2023-10-14T18:35:21.187424</dc:date>\n    <dc:format>image/svg+xml</dc:format>\n    <dc:creator>\n     <cc:Agent>\n      <dc:title>Matplotlib v3.8.0, https://matplotlib.org/</dc:title>\n     </cc:Agent>\n    </dc:creator>\n   </cc:Work>\n  </rdf:RDF>\n </metadata>\n <defs>\n  <style type=\"text/css\">*{stroke-linejoin: round; stroke-linecap: butt}</style>\n </defs>\n <g id=\"figure_1\">\n  <g id=\"patch_1\">\n   <path d=\"M -0 297.190125 \nL 300.237 297.190125 \nL 300.237 0 \nL -0 0 \nz\n\" style=\"fill: #ffffff\"/>\n  </g>\n  <g id=\"axes_1\">\n   <g id=\"patch_2\">\n    <path d=\"M 26.925 273.312 \nL 293.037 273.312 \nL 293.037 7.2 \nL 26.925 7.2 \nz\n\" style=\"fill: #ffffff\"/>\n   </g>\n   <g clip-path=\"url(#p1cfe165ca3)\">\n    <image xlink:href=\"data:image/png;base64,\niVBORw0KGgoAAAANSUhEUgAAAXIAAAFyCAYAAADoJFEJAAAPuklEQVR4nO3cWazm9V3H8e//Wc45c86ZDYZh2IahtCy2lgQplkljCZ0a6QWCwabG1DVUqUbBC5t44ZVKojGh8cKE0NTGmjQ2kUaNSwy9MJY2tNAhRQz7vs2+nfXZvPDCKy++P83pfPH1uv/kf84zz3nP/+rbHerungUAZfV+2D8AAP87Qg5QnJADFCfkAMUJOUBxQg5QnJADFCfkAMUJOUBxQg5QnJADFCfkAMUJOUBxQg5QnJADFCfkAMUJOUBxQg5QnJADFCfkAMUJOUBxQg5QnJADFCfkAMUJOUBxQg5QnJADFCfkAMUJOUBxQg5QnJADFCfkAMUJOUBxQg5QnJADFCfkAMUJOUBxQg5QnJADFDf4Yf8Alb38tQ+nNx+/6sWmZx0+ell60+9N05uum+Wf07BptTTcTG/Gs/z7ymSa34waNhER01mX3myO++nNxmiY3ly+61R6M7vtzfSmWZf/7GLW8H1teU7rsxp4IwcoTsgBihNygOKEHKA4IQcoTsgBihNygOKEHKA4IQcoTsgBihNygOKEHKC47lB399ZcdWk8OtPNzaU3s42Npmdl/fNbh9Obvzizt+lZFw3OpDe7eqvpzcp0Pr1ZneU3ERGbs/zhp9Esf+dt0nCUqkXLzxYRsdTLf18nDe9gR8fb05tbF59Nb37xi/enNxER+x58LD/q5b9DMZ3kN+c5b+QAxQk5QHFCDlCckAMUJ+QAxQk5QHFCDlCckAMUJ+QAxQk5QHFCDlCckAMUN9iyozOztttcW3UA68jnD6Y3k9mT6c3hlf3pTavTo23pzbb+KL0ZdG1HiHpd/jsxbHhWy3P6Md2S50RETLfoqNfGNH/U67lh/sjb2kfPpTetul7DZ9drO27WYjZt+E409NUbOUBxQg5QnJADFCfkAMUJOUBxQg5QnJADFCfkAMUJOUBxQg5QnJADFCfkAMUNmg5gbaH+j1yT3kyeeS69OXNN/kjSNPIHcY5tLKc3ERHXLb+T3uwdnm161lbpd/nPvOVoVovRrOGY3Baa7+WPm725sTu9Werlj9YtbdtMb1rNxuMte9b5zBs5QHFCDlCckAMUJ+QAxQk5QHFCDlCckAMUJ+QAxQk5QHFCDlCckAMUJ+QAxQk5QHGD7qYPpUfP/sZ8enP3DU+mNxERf7Lvr9Ob6/7ts+nN4NkuvdmY5S/QXTx/Jr1p1XLBr+Ui4c7+WnoT0XbB7+3NXenNNPL/tr2Gy5Ytn11ExGSWf5/a2V/Nbwb5f6ezk23pzVdv+HJ6ExHxO3FL0y5r97cuSG+e/8q1Tc/a89C3m3ZZ3sgBihNygOKEHKA4IQcoTsgBihNygOKEHKA4IQcoTsgBihNygOKEHKA4IQcorrv5n76Qvg708PVfTT/oX1auT28iIo5s7khvPrj4ZnqzMs0fAutH/kjSsfH29Cai7QBWy2a5v57e9BsOTEVEnJ0spDctv9Owm6Q3Cw0HvVqeExGx2NtIb85O85/d6iT/Hb924e305scXXk9vIiJ+/cqPpTf3Pv9CenPp4GR6s9rQh4iIP37tp/Kje/LP8kYOUJyQAxQn5ADFCTlAcUIOUJyQAxQn5ADFCTlAcUIOUJyQAxQn5ADFCTlAcYPj39+bHn3nwFXpzZsbu9ObiIjlfv6g0Ksbe9Kb7Q3HolqOPm3MBulNRESv4TDVVh3AeneUP2wWEbExzX8We4bn0puWz67FJLqmXcshtfmGo16LDX9LH9+WP4B18B/vT28iIoYP5L8Pdy4dTm++8O5H0puWA3kREX904JH05jO/cF96440coDghByhOyAGKE3KA4oQcoDghByhOyAGKE3KA4oQcoDghByhOyAGKE3KA4rpbDz2Qvij06F9+Kf2gPzh2XXoTEXFytJjeXDhcSW9ajmatNx7AajFqODA1bTji1HIIbDprOxbVcgBr9yD/b3u+G836W7I5OV5Kby4ZnkpvXlzPH+KLiPjkjqfTm++tvi+92TlYTW9aPu+IiF39/LO+/qmD6Y03coDihBygOCEHKE7IAYoTcoDihBygOCEHKE7IAYoTcoDihBygOCEHKE7IAYobDB59Ij16YmMzvdnZX0tvIiLWp8P0ZqE3yj+n4QDWdJb/f3Cxl//sIiKOTbanNyvj+fRm1zB/5Ofy+RPpTUTEsJukN6vT/O80aTge1nIkaXWS/9ki2o44Hdnckd60HClr+Vu6euFIehMR8fzmvqZd1rmGw3BXzbf9Tnv7Z9Ob8UuvpDfeyAGKE3KA4oQcoDghByhOyAGKE3KA4oQcoDghByhOyAGKE3KA4oQcoDghByhOyAGKy5/8i4if/+6vpjd/euPXWx4Vb2/uTG9Wp3PpTctVwml6ETHsxg2rtit0a93WXI48MV5ObyIiTo4Xm3ZZa5P892HHIH+tc9jLX3OMaLu0uNjPf19brk2uNFyb3Erb++vpzdmG64cHhsfSm4iIX3r4t9ObK+Kx9MYbOUBxQg5QnJADFCfkAMUJOUBxQg5QnJADFCfkAMUJOUBxQg5QnJADFCfkAMU1Hc3a/8X8kZ/+V2Ytj4pel9/tHqykNxvT/IGpi4en05vF3kZ6ExGxq7+a3uxbzv98k+jSm6PjHelNRMTRfn53xdzx9GZfP/85HJ8upTenJvlNRMRklv/M5xoOYLUcRJvM8u96pyZtx9BONHx+Fw3ONj0r68fm8s2LiLjiD/MHsFp4IwcoTsgBihNygOKEHKA4IQcoTsgBihNygOKEHKA4IQcoTsgBihNygOKEHKC4pqNZ3bcOpzctx5giIq5ZeDu9+fe1y9Obnf219ObVjT3pzbTxc7hs7mR687U3bk5v/uOdi9Ob8ajtoNCt738+vfmrEx9Jb9Y28wfR5gb5o1RX7z6W3kREjKf596krF0+kNzcsvZberM/m0puWA3QREQvdOL05MV5Obw4u5r93H3j0nvQmIuID8WTTLssbOUBxQg5QnJADFCfkAMUJOUBxQg5QnJADFCfkAMUJOUBxQg5QnJADFCfkAMU1Hc1qcd/f/HLT7sGf+XJ6s72/nt4s9EbpTX82TW9Wp/kjRBERB4ZH05tnj+xNbxb/NX+EaLQ9PYmIiNNXLqQ37752QXqz/GL+a37qwll68/gl+c8uImJ+Mf/d29yb/51u2/lMevPU6pXpzc7BanoTEXFukv8+7B6spDcfXcgfebvu/lfSm4iI/Om1iOjyh/W8kQMUJ+QAxQk5QHFCDlCckAMUJ+QAxQk5QHFCDlCckAMUJ+QAxQk5QHFCDlDcoOVAS8zyB4Wu+bPX88+JiMld+f9rlhuOZrU4PcofSdozPNf0rPXZML05eMXL6c03P3x9ehPThu9QRFw4nz941G0bpzebN+W/D+NT8+lN70TbQbTBjvzPt3/xZHqz3nCwbRr5f9td/bajWdNZ/m/9g/NvpDefeObO9GZw/LX0pllDX72RAxQn5ADFCTlAcUIOUJyQAxQn5ADFCTlAcUIOUJyQAxQn5ADFCTlAcUIOUJyQAxQ3aLm01WL8ev5KWUTE0fGO9ObA3LH05p3RzvRmvpe/xHd6si29iYh4fOXq9ObgzhfSm88eeiy9OTLZnt5ERJwY569H3n7wB+nNvv7p9ObMdCG9WeptpDcRESvT/KXF1Vl+8/Ta5elNyyXRs5P8Z9eq5Sro/G/lf75JevFfumH+4uRstJneeCMHKE7IAYoTcoDihBygOCEHKE7IAYoTcoDihBygOCEHKE7IAYoTcoDihByguO5Qd3f6atZWHYKJiDj2uVvSmwd+9+H05qn1/enNRYOz6c0PVvKHiyIiLps/ld6sT/MHhc5N8seY9s8fT28iIs42HKaazrbm3aPXTdObhS5/RC0iYjTrpzeT6NKbC/or6c0bmxfknzPIPyci4oZtr6Y3v//CnenN/E++kt6c77yRAxQn5ADFCTlAcUIOUJyQAxQn5ADFCTlAcUIOUJyQAxQn5ADFCTlAcUIOUNygZTSbTP6vf47/0Z6Hvp3e7Pu9/DGrU3PH0psT4+X0ZvdwNb2JaDuStNjfSG+299fTm3dHO9ObiIg9w/y/U8vRrJYDWC3PWZ81/TnF9l7+M580vIO1HMA6OV5Mb66cz/8tRUT8RP6GWiz+3Jn0pqlevfxhs4iImG5NK72RAxQn5ADFCTlAcUIOUJyQAxQn5ADFCTlAcUIOUJyQAxQn5ADFCTlAcUIOUNwguvwxpq06BNPqrkfuS28euevB9OZv1y9Jbz607Y30ptXTa5enN3uH+SNELcevIiJWp3PpzWiaP0y10BulN5cOT6Y3L23sTW8iIhYH+eNmpydL6c1NSy+lN8+uX5re3LjwWnoTEXH1N+9Nb95//PtNz0o7z5vnjRygOCEHKE7IAYoTcoDihBygOCEHKE7IAYoTcoDihBygOCEHKE7IAYoTcoDihByguO5Qd/dsa57UcGUxImK2NT/eHc8cT28uGuQvBb66uSe9iYhY6MbpzRVz+d+pF9P05uh4R3oT0XaV8DPLR9Ob727kv0PPbV6c3sx1bRfyVqbz6c2u/mp6M5r105sbF/LXOq8ebEtvIiI+ddmNTbu0lhZtUYdaeSMHKE7IAYoTcoDihBygOCEHKE7IAYoTcoDihBygOCEHKE7IAYoTcoDihByguMGWPek8PzrzjV87lN78/dceSm+eGh5LbyIilhqOZj0/uii9eWu0O71pdWCQP4D1o3/+m+nN/tteTW8+tufF9Gb3YCW9iYi4bHgyvbmgfy69uWFuLb1Z7vIHsG7/9K+kNxERXRxu2qWd5y1q4Y0coDghByhOyAGKE3KA4oQcoDghByhOyAGKE3KA4oQcoDghByhOyAGKE3KA4rpD3d3vvQsy57Gj997StPvEPd9Jbz654+n0Zn02TG/uWFpNbyIirv3SvenNxd+bpDev356exMt35A+iPbGxmX9QRLzYcNzs08un05urvvG59Oaazz+e3rD1vJEDFCfkAMUJOUBxQg5QnJADFCfkAMUJOUBxQg5QnJADFCfkAMUJOUBxQg5Q3HvyaFY3nEtvZqO2g0fvNWs/fXN6003bnrV8+K30Zra4kN50Dces1t+XP2T10s/205uIiP3/kN8s/J1jVvw3b+QAxQk5QHFCDlCckAMUJ+QAxQk5QHFCDlCckAMUJ+QAxQk5QHFCDlCckAMU9548mgXw/4k3coDihBygOCEHKE7IAYoTcoDihBygOCEHKE7IAYoTcoDihBygOCEHKE7IAYoTcoDihBygOCEHKE7IAYoTcoDihBygOCEHKE7IAYoTcoDihBygOCEHKE7IAYoTcoDihBygOCEHKE7IAYoTcoDihBygOCEHKE7IAYoTcoDihBygOCEHKE7IAYoTcoDihBygOCEHKO4/ATxp2gk3Kte6AAAAAElFTkSuQmCC\" id=\"image138dee73ff\" transform=\"scale(1 -1) translate(0 -266.4)\" x=\"26.925\" y=\"-6.912\" width=\"266.4\" height=\"266.4\"/>\n   </g>\n   <g id=\"matplotlib.axis_1\">\n    <g id=\"xtick_1\">\n     <g id=\"line2d_1\">\n      <defs>\n       <path id=\"maa44a11715\" d=\"M 0 0 \nL 0 3.5 \n\" style=\"stroke: #000000; stroke-width: 0.8\"/>\n      </defs>\n      <g>\n       <use xlink:href=\"#maa44a11715\" x=\"31.677\" y=\"273.312\" style=\"stroke: #000000; stroke-width: 0.8\"/>\n      </g>\n     </g>\n     <g id=\"text_1\">\n      <!-- 0 -->\n      <g transform=\"translate(28.49575 287.910437) scale(0.1 -0.1)\">\n       <defs>\n        <path id=\"DejaVuSans-30\" d=\"M 2034 4250 \nQ 1547 4250 1301 3770 \nQ 1056 3291 1056 2328 \nQ 1056 1369 1301 889 \nQ 1547 409 2034 409 \nQ 2525 409 2770 889 \nQ 3016 1369 3016 2328 \nQ 3016 3291 2770 3770 \nQ 2525 4250 2034 4250 \nz\nM 2034 4750 \nQ 2819 4750 3233 4129 \nQ 3647 3509 3647 2328 \nQ 3647 1150 3233 529 \nQ 2819 -91 2034 -91 \nQ 1250 -91 836 529 \nQ 422 1150 422 2328 \nQ 422 3509 836 4129 \nQ 1250 4750 2034 4750 \nz\n\" transform=\"scale(0.015625)\"/>\n       </defs>\n       <use xlink:href=\"#DejaVuSans-30\"/>\n      </g>\n     </g>\n    </g>\n    <g id=\"xtick_2\">\n     <g id=\"line2d_2\">\n      <g>\n       <use xlink:href=\"#maa44a11715\" x=\"79.197\" y=\"273.312\" style=\"stroke: #000000; stroke-width: 0.8\"/>\n      </g>\n     </g>\n     <g id=\"text_2\">\n      <!-- 5 -->\n      <g transform=\"translate(76.01575 287.910437) scale(0.1 -0.1)\">\n       <defs>\n        <path id=\"DejaVuSans-35\" d=\"M 691 4666 \nL 3169 4666 \nL 3169 4134 \nL 1269 4134 \nL 1269 2991 \nQ 1406 3038 1543 3061 \nQ 1681 3084 1819 3084 \nQ 2600 3084 3056 2656 \nQ 3513 2228 3513 1497 \nQ 3513 744 3044 326 \nQ 2575 -91 1722 -91 \nQ 1428 -91 1123 -41 \nQ 819 9 494 109 \nL 494 744 \nQ 775 591 1075 516 \nQ 1375 441 1709 441 \nQ 2250 441 2565 725 \nQ 2881 1009 2881 1497 \nQ 2881 1984 2565 2268 \nQ 2250 2553 1709 2553 \nQ 1456 2553 1204 2497 \nQ 953 2441 691 2322 \nL 691 4666 \nz\n\" transform=\"scale(0.015625)\"/>\n       </defs>\n       <use xlink:href=\"#DejaVuSans-35\"/>\n      </g>\n     </g>\n    </g>\n    <g id=\"xtick_3\">\n     <g id=\"line2d_3\">\n      <g>\n       <use xlink:href=\"#maa44a11715\" x=\"126.717\" y=\"273.312\" style=\"stroke: #000000; stroke-width: 0.8\"/>\n      </g>\n     </g>\n     <g id=\"text_3\">\n      <!-- 10 -->\n      <g transform=\"translate(120.3545 287.910437) scale(0.1 -0.1)\">\n       <defs>\n        <path id=\"DejaVuSans-31\" d=\"M 794 531 \nL 1825 531 \nL 1825 4091 \nL 703 3866 \nL 703 4441 \nL 1819 4666 \nL 2450 4666 \nL 2450 531 \nL 3481 531 \nL 3481 0 \nL 794 0 \nL 794 531 \nz\n\" transform=\"scale(0.015625)\"/>\n       </defs>\n       <use xlink:href=\"#DejaVuSans-31\"/>\n       <use xlink:href=\"#DejaVuSans-30\" x=\"63.623047\"/>\n      </g>\n     </g>\n    </g>\n    <g id=\"xtick_4\">\n     <g id=\"line2d_4\">\n      <g>\n       <use xlink:href=\"#maa44a11715\" x=\"174.237\" y=\"273.312\" style=\"stroke: #000000; stroke-width: 0.8\"/>\n      </g>\n     </g>\n     <g id=\"text_4\">\n      <!-- 15 -->\n      <g transform=\"translate(167.8745 287.910437) scale(0.1 -0.1)\">\n       <use xlink:href=\"#DejaVuSans-31\"/>\n       <use xlink:href=\"#DejaVuSans-35\" x=\"63.623047\"/>\n      </g>\n     </g>\n    </g>\n    <g id=\"xtick_5\">\n     <g id=\"line2d_5\">\n      <g>\n       <use xlink:href=\"#maa44a11715\" x=\"221.757\" y=\"273.312\" style=\"stroke: #000000; stroke-width: 0.8\"/>\n      </g>\n     </g>\n     <g id=\"text_5\">\n      <!-- 20 -->\n      <g transform=\"translate(215.3945 287.910437) scale(0.1 -0.1)\">\n       <defs>\n        <path id=\"DejaVuSans-32\" d=\"M 1228 531 \nL 3431 531 \nL 3431 0 \nL 469 0 \nL 469 531 \nQ 828 903 1448 1529 \nQ 2069 2156 2228 2338 \nQ 2531 2678 2651 2914 \nQ 2772 3150 2772 3378 \nQ 2772 3750 2511 3984 \nQ 2250 4219 1831 4219 \nQ 1534 4219 1204 4116 \nQ 875 4013 500 3803 \nL 500 4441 \nQ 881 4594 1212 4672 \nQ 1544 4750 1819 4750 \nQ 2544 4750 2975 4387 \nQ 3406 4025 3406 3419 \nQ 3406 3131 3298 2873 \nQ 3191 2616 2906 2266 \nQ 2828 2175 2409 1742 \nQ 1991 1309 1228 531 \nz\n\" transform=\"scale(0.015625)\"/>\n       </defs>\n       <use xlink:href=\"#DejaVuSans-32\"/>\n       <use xlink:href=\"#DejaVuSans-30\" x=\"63.623047\"/>\n      </g>\n     </g>\n    </g>\n    <g id=\"xtick_6\">\n     <g id=\"line2d_6\">\n      <g>\n       <use xlink:href=\"#maa44a11715\" x=\"269.277\" y=\"273.312\" style=\"stroke: #000000; stroke-width: 0.8\"/>\n      </g>\n     </g>\n     <g id=\"text_6\">\n      <!-- 25 -->\n      <g transform=\"translate(262.9145 287.910437) scale(0.1 -0.1)\">\n       <use xlink:href=\"#DejaVuSans-32\"/>\n       <use xlink:href=\"#DejaVuSans-35\" x=\"63.623047\"/>\n      </g>\n     </g>\n    </g>\n   </g>\n   <g id=\"matplotlib.axis_2\">\n    <g id=\"ytick_1\">\n     <g id=\"line2d_7\">\n      <defs>\n       <path id=\"mededd45a2a\" d=\"M 0 0 \nL -3.5 0 \n\" style=\"stroke: #000000; stroke-width: 0.8\"/>\n      </defs>\n      <g>\n       <use xlink:href=\"#mededd45a2a\" x=\"26.925\" y=\"11.952\" style=\"stroke: #000000; stroke-width: 0.8\"/>\n      </g>\n     </g>\n     <g id=\"text_7\">\n      <!-- 0 -->\n      <g transform=\"translate(13.5625 15.751219) scale(0.1 -0.1)\">\n       <use xlink:href=\"#DejaVuSans-30\"/>\n      </g>\n     </g>\n    </g>\n    <g id=\"ytick_2\">\n     <g id=\"line2d_8\">\n      <g>\n       <use xlink:href=\"#mededd45a2a\" x=\"26.925\" y=\"59.472\" style=\"stroke: #000000; stroke-width: 0.8\"/>\n      </g>\n     </g>\n     <g id=\"text_8\">\n      <!-- 5 -->\n      <g transform=\"translate(13.5625 63.271219) scale(0.1 -0.1)\">\n       <use xlink:href=\"#DejaVuSans-35\"/>\n      </g>\n     </g>\n    </g>\n    <g id=\"ytick_3\">\n     <g id=\"line2d_9\">\n      <g>\n       <use xlink:href=\"#mededd45a2a\" x=\"26.925\" y=\"106.992\" style=\"stroke: #000000; stroke-width: 0.8\"/>\n      </g>\n     </g>\n     <g id=\"text_9\">\n      <!-- 10 -->\n      <g transform=\"translate(7.2 110.791219) scale(0.1 -0.1)\">\n       <use xlink:href=\"#DejaVuSans-31\"/>\n       <use xlink:href=\"#DejaVuSans-30\" x=\"63.623047\"/>\n      </g>\n     </g>\n    </g>\n    <g id=\"ytick_4\">\n     <g id=\"line2d_10\">\n      <g>\n       <use xlink:href=\"#mededd45a2a\" x=\"26.925\" y=\"154.512\" style=\"stroke: #000000; stroke-width: 0.8\"/>\n      </g>\n     </g>\n     <g id=\"text_10\">\n      <!-- 15 -->\n      <g transform=\"translate(7.2 158.311219) scale(0.1 -0.1)\">\n       <use xlink:href=\"#DejaVuSans-31\"/>\n       <use xlink:href=\"#DejaVuSans-35\" x=\"63.623047\"/>\n      </g>\n     </g>\n    </g>\n    <g id=\"ytick_5\">\n     <g id=\"line2d_11\">\n      <g>\n       <use xlink:href=\"#mededd45a2a\" x=\"26.925\" y=\"202.032\" style=\"stroke: #000000; stroke-width: 0.8\"/>\n      </g>\n     </g>\n     <g id=\"text_11\">\n      <!-- 20 -->\n      <g transform=\"translate(7.2 205.831219) scale(0.1 -0.1)\">\n       <use xlink:href=\"#DejaVuSans-32\"/>\n       <use xlink:href=\"#DejaVuSans-30\" x=\"63.623047\"/>\n      </g>\n     </g>\n    </g>\n    <g id=\"ytick_6\">\n     <g id=\"line2d_12\">\n      <g>\n       <use xlink:href=\"#mededd45a2a\" x=\"26.925\" y=\"249.552\" style=\"stroke: #000000; stroke-width: 0.8\"/>\n      </g>\n     </g>\n     <g id=\"text_12\">\n      <!-- 25 -->\n      <g transform=\"translate(7.2 253.351219) scale(0.1 -0.1)\">\n       <use xlink:href=\"#DejaVuSans-32\"/>\n       <use xlink:href=\"#DejaVuSans-35\" x=\"63.623047\"/>\n      </g>\n     </g>\n    </g>\n   </g>\n   <g id=\"patch_3\">\n    <path d=\"M 26.925 273.312 \nL 26.925 7.2 \n\" style=\"fill: none; stroke: #000000; stroke-width: 0.8; stroke-linejoin: miter; stroke-linecap: square\"/>\n   </g>\n   <g id=\"patch_4\">\n    <path d=\"M 293.037 273.312 \nL 293.037 7.2 \n\" style=\"fill: none; stroke: #000000; stroke-width: 0.8; stroke-linejoin: miter; stroke-linecap: square\"/>\n   </g>\n   <g id=\"patch_5\">\n    <path d=\"M 26.925 273.312 \nL 293.037 273.312 \n\" style=\"fill: none; stroke: #000000; stroke-width: 0.8; stroke-linejoin: miter; stroke-linecap: square\"/>\n   </g>\n   <g id=\"patch_6\">\n    <path d=\"M 26.925 7.2 \nL 293.037 7.2 \n\" style=\"fill: none; stroke: #000000; stroke-width: 0.8; stroke-linejoin: miter; stroke-linecap: square\"/>\n   </g>\n  </g>\n </g>\n <defs>\n  <clipPath id=\"p1cfe165ca3\">\n   <rect x=\"26.925\" y=\"7.2\" width=\"266.112\" height=\"266.112\"/>\n  </clipPath>\n </defs>\n</svg>\n",
      "image/png": "[encoded data removed]"
     },
     "metadata": {}
    }
   ],
   "metadata": {}
  },
  {
   "cell_type": "code",
   "execution_count": 177,
   "source": [
    "def initialize_params(n_samples, n_features):\n",
    "    W =  random_matrix(n_samples, n_features)\n",
    "    b = create_vector(n_samples, 1)\n",
    "    return W, b\n",
    "\n",
    "n_samples = len(X)\n",
    "n_features = len(X[0])\n",
    "n_inputs = n_features * n_features\n",
    "n_samples, n_features, n_inputs\n",
    "\n",
    "W, b = initialize_params(n_samples, n_features)\n",
    "Z = multiply_matrix(W, X)"
   ],
   "outputs": [
    {
     "output_type": "execute_result",
     "data": {
      "text/plain": [
       "(11, 784, 614656)"
      ]
     },
     "metadata": {},
     "execution_count": 177
    }
   ],
   "metadata": {}
  },
  {
   "cell_type": "markdown",
   "source": [
    "### Building the Neural Network"
   ],
   "metadata": {}
  },
  {
   "cell_type": "code",
   "execution_count": 205,
   "source": [
    "def initialize_params(n_rows, n_cols):\n",
    "    W = np.random.randn(n_rows, n_cols) * 0.01\n",
    "    b = np.zeros(shape=(n_rows, 1))\n",
    "    return W, b\n",
    "    \n",
    "def ReLU(x):\n",
    "    return np.maximum(0, x)\n",
    "\n",
    "def Softmax(X):\n",
    "    pass\n",
    "\n",
    "A = [[-1, 0.5, -0.23], [0.67, -2.8, 2.12]]\n",
    "ReLU(A)"
   ],
   "outputs": [
    {
     "output_type": "execute_result",
     "data": {
      "text/plain": [
       "array([[0.  , 0.5 , 0.  ],\n",
       "       [0.67, 0.  , 2.12]])"
      ]
     },
     "metadata": {},
     "execution_count": 205
    }
   ],
   "metadata": {}
  },
  {
   "cell_type": "markdown",
   "source": [
    "Creating a Neural Network with:\n",
    "- 3 layers: 1 input, 1 hidden, 1 output\n",
    "- hidden layer"
   ],
   "metadata": {}
  },
  {
   "cell_type": "code",
   "execution_count": 208,
   "source": [
    "# Converting arrays to numpy\n",
    "X = np.array(X)\n",
    "Y = np.array(Y)\n",
    "\n",
    "n_samples, n_features = X.shape[0], X.shape[1]\n",
    "\n",
    "# Normalizing X\n",
    "X_norm = X / 255\n",
    "\n",
    "### Forward Propagation ###\n",
    "\n",
    "## Layer 1\n",
    "# Initializing W and b\n",
    "W_1, b_1 = initialize_params(n_rows=n_features, n_cols=n_samples)\n",
    "\n",
    "# Scores: Linear function\n",
    "Z_1 = (W @ X) + b\n",
    "\n",
    "# Activation Function\n",
    "a_1 = ReLU(Z_1)\n",
    "\n",
    "## Layer 2\n",
    "n_neurons = 50\n",
    "W_2, b_2 = initialize_params(n_rows=n_neurons, n_cols=a_1.shape[1])\n",
    "\n",
    "n_samples, n_features"
   ],
   "outputs": [
    {
     "output_type": "execute_result",
     "data": {
      "text/plain": [
       "(11, 784)"
      ]
     },
     "metadata": {},
     "execution_count": 208
    }
   ],
   "metadata": {}
  },
  {
   "cell_type": "code",
   "execution_count": 209,
   "source": [
    "W_2.shape, b_2.shape"
   ],
   "outputs": [
    {
     "output_type": "execute_result",
     "data": {
      "text/plain": [
       "((50, 784), (50, 1))"
      ]
     },
     "metadata": {},
     "execution_count": 209
    }
   ],
   "metadata": {}
  },
  {
   "cell_type": "code",
   "execution_count": null,
   "source": [],
   "outputs": [],
   "metadata": {}
  }
 ],
 "metadata": {
  "orig_nbformat": 4,
  "language_info": {
   "name": "python",
   "version": "3.10.13",
   "mimetype": "text/x-python",
   "codemirror_mode": {
    "name": "ipython",
    "version": 3
   },
   "pygments_lexer": "ipython3",
   "nbconvert_exporter": "python",
   "file_extension": ".py"
  },
  "kernelspec": {
   "name": "python3",
   "display_name": "Python 3.10.13 64-bit ('alg-venv': venv)"
  },
  "interpreter": {
   "hash": "32d73eb8366e1bd09017c2cd34fc4d617acb4fcfecfaff53f90c2b8750da6f2a"
  }
 },
 "nbformat": 4,
 "nbformat_minor": 2
}